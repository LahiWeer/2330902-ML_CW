{
  "cells": [
    {
      "cell_type": "markdown",
      "metadata": {
        "id": "view-in-github",
        "colab_type": "text"
      },
      "source": [
        "<a href=\"https://colab.research.google.com/github/LahiWeer/2330902-ML_CW/blob/master/ML%20models/Random%20forest%20model.ipynb\" target=\"_parent\"><img src=\"https://colab.research.google.com/assets/colab-badge.svg\" alt=\"Open In Colab\"/></a>"
      ]
    },
    {
      "metadata": {
        "id": "12c981577627c7b7",
        "ExecuteTime": {
          "end_time": "2024-12-25T17:17:15.309844Z",
          "start_time": "2024-12-25T17:17:15.246267Z"
        }
      },
      "cell_type": "code",
      "source": [
        "import pandas as pd\n",
        "from sklearn.model_selection import train_test_split, cross_val_score\n",
        "from sklearn.ensemble import RandomForestClassifier\n",
        "from sklearn.metrics import classification_report, accuracy_score\n",
        "import numpy as np"
      ],
      "id": "12c981577627c7b7",
      "outputs": [],
      "execution_count": 6
    },
    {
      "cell_type": "code",
      "source": [
        "# Step 1: Load the dataset\n",
        "data_url = 'https://raw.githubusercontent.com/LahiWeer/2330902-ML_CW/refs/heads/master/Preprocessing/resampled_and_original_data.csv'\n",
        "data = pd.read_csv(data_url)"
      ],
      "metadata": {
        "id": "WdttXToNO920",
        "ExecuteTime": {
          "end_time": "2024-12-26T03:27:23.974196Z",
          "start_time": "2024-12-26T03:27:23.653467Z"
        }
      },
      "id": "WdttXToNO920",
      "outputs": [],
      "execution_count": 7
    },
    {
      "metadata": {
        "collapsed": true,
        "id": "initial_id",
        "outputId": "f769dcdf-d35e-4868-ff24-03b15ca051b7",
        "colab": {
          "base_uri": "https://localhost:8080/"
        },
        "ExecuteTime": {
          "end_time": "2024-12-26T03:27:33.123500Z",
          "start_time": "2024-12-26T03:27:28.140465Z"
        }
      },
      "cell_type": "code",
      "source": [
        "# Separate features (X) and target (y)\n",
        "X = data.drop(columns=['y'])\n",
        "y = data['y']\n",
        "\n",
        "# Perform cross-validation\n",
        "rf_model = RandomForestClassifier(random_state=42)\n",
        "\n",
        "# Use cross-validation to evaluate the model\n",
        "cv_scores = cross_val_score(rf_model, X, y, cv=5, scoring='accuracy')  # 5-fold cross-validation\n",
        "print(\"Cross-Validation Accuracy Scores:\", cv_scores)\n",
        "print(\"Mean Cross-Validation Accuracy:\", np.mean(cv_scores))\n",
        "print(\"Standard Deviation of Cross-Validation Accuracy:\", np.std(cv_scores))"
      ],
      "id": "initial_id",
      "outputs": [
        {
          "output_type": "stream",
          "name": "stdout",
          "text": [
            "Cross-Validation Accuracy Scores: [0.4698883  0.62656844 0.62786368 0.53792601 0.51242613]\n",
            "Mean Cross-Validation Accuracy: 0.5549345116442114\n",
            "Standard Deviation of Cross-Validation Accuracy: 0.06289545926283018\n"
          ]
        }
      ],
      "execution_count": 8
    },
    {
      "cell_type": "code",
      "source": [
        "# Train the model on a train-test split to evaluate performance\n",
        "X_train, X_test, y_train, y_test = train_test_split(X, y, test_size=0.2, random_state=42)\n",
        "\n",
        "rf_model.fit(X_train, y_train)\n",
        "y_pred = rf_model.predict(X_test)"
      ],
      "metadata": {
        "id": "EWF-L51cdlmx"
      },
      "id": "EWF-L51cdlmx",
      "execution_count": 9,
      "outputs": []
    },
    {
      "metadata": {
        "ExecuteTime": {
          "end_time": "2024-12-26T03:27:35.770329Z",
          "start_time": "2024-12-26T03:27:35.761375Z"
        },
        "id": "19b21f234ba9bbe7",
        "outputId": "80639c0e-9079-4b73-86f5-d4659dd12ea5",
        "colab": {
          "base_uri": "https://localhost:8080/"
        }
      },
      "cell_type": "code",
      "source": [
        "# Calculate accuracy\n",
        "accuracy = accuracy_score(y_test, y_pred)\n",
        "print(\"Accuracy:\", accuracy)"
      ],
      "id": "19b21f234ba9bbe7",
      "outputs": [
        {
          "output_type": "stream",
          "name": "stdout",
          "text": [
            "Accuracy: 0.9249635745507528\n"
          ]
        }
      ],
      "execution_count": 10
    },
    {
      "cell_type": "code",
      "source": [
        "# Generate and display the classification report\n",
        "print(\"\\nClassification Report:\\n\", classification_report(y_test, y_pred))"
      ],
      "metadata": {
        "id": "tzCgtiX3PQdc",
        "outputId": "d6c20586-f54e-4588-ee25-9722205fd599",
        "colab": {
          "base_uri": "https://localhost:8080/"
        },
        "ExecuteTime": {
          "end_time": "2024-12-26T03:27:38.648544Z",
          "start_time": "2024-12-26T03:27:38.616807Z"
        }
      },
      "id": "tzCgtiX3PQdc",
      "outputs": [
        {
          "output_type": "stream",
          "name": "stdout",
          "text": [
            "\n",
            "Classification Report:\n",
            "               precision    recall  f1-score   support\n",
            "\n",
            "           0       0.92      0.93      0.93      6211\n",
            "           1       0.93      0.92      0.92      6143\n",
            "\n",
            "    accuracy                           0.92     12354\n",
            "   macro avg       0.92      0.92      0.92     12354\n",
            "weighted avg       0.92      0.92      0.92     12354\n",
            "\n"
          ]
        }
      ],
      "execution_count": 11
    }
  ],
  "metadata": {
    "kernelspec": {
      "display_name": "Python 3",
      "language": "python",
      "name": "python3"
    },
    "language_info": {
      "codemirror_mode": {
        "name": "ipython",
        "version": 2
      },
      "file_extension": ".py",
      "mimetype": "text/x-python",
      "name": "python",
      "nbconvert_exporter": "python",
      "pygments_lexer": "ipython2",
      "version": "2.7.6"
    },
    "colab": {
      "provenance": [],
      "include_colab_link": true
    }
  },
  "nbformat": 4,
  "nbformat_minor": 5
}