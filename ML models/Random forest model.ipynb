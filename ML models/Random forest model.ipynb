{
  "cells": [
    {
      "cell_type": "markdown",
      "metadata": {
        "id": "view-in-github",
        "colab_type": "text"
      },
      "source": [
        "<a href=\"https://colab.research.google.com/github/LahiWeer/2330902-ML_CW/blob/master/ML%20models/Random%20forest%20model.ipynb\" target=\"_parent\"><img src=\"https://colab.research.google.com/assets/colab-badge.svg\" alt=\"Open In Colab\"/></a>"
      ]
    },
    {
      "metadata": {
        "id": "12c981577627c7b7",
        "ExecuteTime": {
          "end_time": "2024-12-28T10:05:09.866058Z",
          "start_time": "2024-12-28T10:05:09.419838Z"
        }
      },
      "cell_type": "code",
      "source": [
        "import pandas as pd\n",
        "from sklearn.model_selection import train_test_split, cross_val_score\n",
        "from sklearn.ensemble import RandomForestClassifier\n",
        "from sklearn.metrics import classification_report, accuracy_score\n",
        "import numpy as np"
      ],
      "id": "12c981577627c7b7",
      "outputs": [],
      "execution_count": 2
    },
    {
      "cell_type": "code",
      "source": [
        "# Step 1: Load the dataset\n",
        "data_url = 'https://raw.githubusercontent.com/LahiWeer/2330902-ML_CW/refs/heads/master/Preprocessing/resampled_and_original_data.csv'\n",
        "data = pd.read_csv(data_url)"
      ],
      "metadata": {
        "id": "WdttXToNO920",
        "ExecuteTime": {
          "end_time": "2024-12-28T10:05:18.415419Z",
          "start_time": "2024-12-28T10:05:17.326924Z"
        }
      },
      "id": "WdttXToNO920",
      "outputs": [],
      "execution_count": 3
    },
    {
      "metadata": {
        "collapsed": true,
        "id": "initial_id",
        "outputId": "ce7305dc-b6ef-4d55-e1e6-9e9c7cce370a",
        "colab": {
          "base_uri": "https://localhost:8080/"
        },
        "ExecuteTime": {
          "end_time": "2024-12-28T10:05:44.157679Z",
          "start_time": "2024-12-28T10:05:20.091941Z"
        }
      },
      "cell_type": "code",
      "source": [
        "# Separate features (X) and target (y)\n",
        "X = data.drop(columns=['y'])\n",
        "y = data['y']\n",
        "\n",
        "# Perform cross-validation\n",
        "rf_model = RandomForestClassifier(random_state=42)\n",
        "\n",
        "# Use cross-validation to evaluate the model\n",
        "cv_scores = cross_val_score(rf_model, X, y, cv=5, scoring='accuracy')  # 5-fold cross-validation\n",
        "print(\"Cross-Validation Accuracy Scores:\", cv_scores)\n",
        "print(\"Mean Cross-Validation Accuracy:\", np.mean(cv_scores))\n",
        "print(\"Standard Deviation of Cross-Validation Accuracy:\", np.std(cv_scores))"
      ],
      "id": "initial_id",
      "outputs": [
        {
          "output_type": "stream",
          "name": "stdout",
          "text": [
            "Cross-Validation Accuracy Scores: [0.9200259  0.91945276 0.92803368 0.92244799 0.919048  ]\n",
            "Mean Cross-Validation Accuracy: 0.9218016671917342\n",
            "Standard Deviation of Cross-Validation Accuracy: 0.0033319365878143933\n"
          ]
        }
      ],
      "execution_count": 4
    },
    {
      "cell_type": "code",
      "source": [
        "# Train the model on a train-test split to evaluate performance\n",
        "X_train, X_test, y_train, y_test = train_test_split(X, y, test_size=0.2, random_state=42)\n",
        "\n",
        "rf_model.fit(X_train, y_train)\n",
        "y_pred = rf_model.predict(X_test)"
      ],
      "metadata": {
        "id": "EWF-L51cdlmx",
        "ExecuteTime": {
          "end_time": "2024-12-28T10:05:50.641575Z",
          "start_time": "2024-12-28T10:05:44.178624Z"
        }
      },
      "id": "EWF-L51cdlmx",
      "outputs": [],
      "execution_count": 5
    },
    {
      "metadata": {
        "id": "19b21f234ba9bbe7",
        "outputId": "4b53714e-3376-4cf5-95ca-8150ce8da48c",
        "colab": {
          "base_uri": "https://localhost:8080/"
        },
        "ExecuteTime": {
          "end_time": "2024-12-28T10:05:50.732499Z",
          "start_time": "2024-12-28T10:05:50.723451Z"
        }
      },
      "cell_type": "code",
      "source": [
        "# Calculate accuracy\n",
        "accuracy = accuracy_score(y_test, y_pred)\n",
        "print(\"Accuracy:\", accuracy)"
      ],
      "id": "19b21f234ba9bbe7",
      "outputs": [
        {
          "output_type": "stream",
          "name": "stdout",
          "text": [
            "Accuracy: 0.9207544115266311\n"
          ]
        }
      ],
      "execution_count": 6
    },
    {
      "cell_type": "code",
      "source": [
        "# Generate and display the classification report\n",
        "print(\"\\nClassification Report:\\n\", classification_report(y_test, y_pred))"
      ],
      "metadata": {
        "id": "tzCgtiX3PQdc",
        "outputId": "02181a24-2c64-4dc3-b10a-01952a5648b1",
        "colab": {
          "base_uri": "https://localhost:8080/"
        },
        "ExecuteTime": {
          "end_time": "2024-12-28T10:05:50.868358Z",
          "start_time": "2024-12-28T10:05:50.841125Z"
        }
      },
      "id": "tzCgtiX3PQdc",
      "outputs": [
        {
          "output_type": "stream",
          "name": "stdout",
          "text": [
            "\n",
            "Classification Report:\n",
            "               precision    recall  f1-score   support\n",
            "\n",
            "           0       0.91      0.93      0.92      6186\n",
            "           1       0.93      0.91      0.92      6168\n",
            "\n",
            "    accuracy                           0.92     12354\n",
            "   macro avg       0.92      0.92      0.92     12354\n",
            "weighted avg       0.92      0.92      0.92     12354\n",
            "\n"
          ]
        }
      ],
      "execution_count": 7
    },
    {
      "cell_type": "code",
      "source": [
        "from sklearn.metrics import confusion_matrix\n",
        "import seaborn as sns\n",
        "import matplotlib.pyplot as plt\n",
        "\n",
        "# Step 13: Generate Confusion Matrix\n",
        "cm_rf = confusion_matrix(y_test, y_pred)\n",
        "\n",
        "# Step 14: Plot Confusion Matrix with Purples Color Map\n",
        "plt.figure(figsize=(8, 6))\n",
        "sns.heatmap(cm_rf, annot=True, fmt='d', cmap='Purples', xticklabels=['Not Subscribed', 'Subscribed'], yticklabels=['Not Subscribed', 'Subscribed'])\n",
        "plt.title('Confusion Matrix for Random Forest on Test Data')\n",
        "plt.xlabel('Predicted')\n",
        "plt.ylabel('True')\n",
        "plt.show()\n",
        "\n"
      ],
      "metadata": {
        "id": "sSP0BzWzr5Pe",
        "outputId": "8bad99e3-7d8e-40e7-a39a-d92279fc2606",
        "colab": {
          "base_uri": "https://localhost:8080/",
          "height": 546
        }
      },
      "id": "sSP0BzWzr5Pe",
      "execution_count": 9,
      "outputs": [
        {
          "output_type": "display_data",
          "data": {
            "text/plain": [
              "<Figure size 800x600 with 2 Axes>"
            ],
            "image/png": "[encoded data removed]"
          },
          "metadata": {}
        }
      ]
    }
  ],
  "metadata": {
    "kernelspec": {
      "display_name": "Python 3",
      "language": "python",
      "name": "python3"
    },
    "language_info": {
      "codemirror_mode": {
        "name": "ipython",
        "version": 2
      },
      "file_extension": ".py",
      "mimetype": "text/x-python",
      "name": "python",
      "nbconvert_exporter": "python",
      "pygments_lexer": "ipython2",
      "version": "2.7.6"
    },
    "colab": {
      "provenance": [],
      "include_colab_link": true
    }
  },
  "nbformat": 4,
  "nbformat_minor": 5
}