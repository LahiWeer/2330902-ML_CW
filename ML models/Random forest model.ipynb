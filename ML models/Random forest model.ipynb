{
 "cells": [
  {
   "cell_type": "markdown",
   "metadata": {
    "id": "view-in-github",
    "colab_type": "text"
   },
   "source": [
    "<a href=\"https://colab.research.google.com/github/LahiWeer/2330902-ML_CW/blob/master/ML%20models/Random%20forest%20model.ipynb\" target=\"_parent\"><img src=\"https://colab.research.google.com/assets/colab-badge.svg\" alt=\"Open In Colab\"/></a>"
   ],
   "id": "84004f0b9f9b26ca"
  },
  {
   "metadata": {
    "id": "12c981577627c7b7",
    "ExecuteTime": {
     "end_time": "2024-12-25T17:17:15.309844Z",
     "start_time": "2024-12-25T17:17:15.246267Z"
    }
   },
   "cell_type": "code",
   "source": [
    "import pandas as pd\n",
    "from sklearn.model_selection import train_test_split\n",
    "from sklearn.ensemble import RandomForestClassifier\n",
    "from sklearn.metrics import classification_report, accuracy_score"
   ],
   "id": "12c981577627c7b7",
   "outputs": [],
   "execution_count": 5
  },
  {
   "cell_type": "code",
   "source": [
    "# Step 1: Load the dataset\n",
    "data_url = 'https://raw.githubusercontent.com/LahiWeer/2330902-ML_CW/refs/heads/master/Preprocessing/resampled_and_original_data.csv'\n",
    "data = pd.read_csv(data_url)"
   ],
   "metadata": {
    "id": "WdttXToNO920",
    "ExecuteTime": {
     "end_time": "2024-12-26T03:27:23.974196Z",
     "start_time": "2024-12-26T03:27:23.653467Z"
    }
   },
   "id": "WdttXToNO920",
   "outputs": [],
   "execution_count": 13
  },
  {
   "metadata": {
    "collapsed": true,
    "id": "initial_id",
    "outputId": "a30476cc-b777-474f-af5c-46cab2b7ccd5",
    "colab": {
     "base_uri": "https://localhost:8080/"
    },
    "ExecuteTime": {
     "end_time": "2024-12-26T03:27:33.123500Z",
     "start_time": "2024-12-26T03:27:28.140465Z"
    }
   },
   "cell_type": "code",
   "source": [
    "# Separate features (X) and target (y)\n",
    "X = data.drop(columns=['y'])\n",
    "y = data['y']\n",
    "\n",
    "# Split the data into training and testing sets\n",
    "X_train, X_test, y_train, y_test = train_test_split(X, y, test_size=0.2, random_state=42)\n",
    "\n",
    "# Train the Random Forest model\n",
    "rf_model = RandomForestClassifier(random_state=42)\n",
    "rf_model.fit(X_train, y_train)\n",
    "\n",
    "# Make predictions on the testing set\n",
    "y_pred = rf_model.predict(X_test)"
   ],
   "id": "initial_id",
   "outputs": [],
   "execution_count": 14
  },
  {
   "metadata": {
    "ExecuteTime": {
     "end_time": "2024-12-26T03:27:35.770329Z",
     "start_time": "2024-12-26T03:27:35.761375Z"
    }
   },
   "cell_type": "code",
   "source": [
    "# Calculate accuracy\n",
    "accuracy = accuracy_score(y_test, y_pred)\n",
    "print(\"Accuracy:\", accuracy)"
   ],
   "id": "19b21f234ba9bbe7",
   "outputs": [
    {
     "name": "stdout",
     "output_type": "stream",
     "text": [
      "Accuracy: 0.9238421395955643\n"
     ]
    }
   ],
   "execution_count": 16
  },
  {
   "cell_type": "code",
   "source": [
    "# Generate and display the classification report\n",
    "print(\"\\nClassification Report:\\n\", classification_report(y_test, y_pred))"
   ],
   "metadata": {
    "id": "tzCgtiX3PQdc",
    "outputId": "9986f00f-4575-428d-acc8-93487b982f5f",
    "colab": {
     "base_uri": "https://localhost:8080/",
     "height": 54
    },
    "ExecuteTime": {
     "end_time": "2024-12-26T03:27:38.648544Z",
     "start_time": "2024-12-26T03:27:38.616807Z"
    }
   },
   "id": "tzCgtiX3PQdc",
   "outputs": [
    {
     "name": "stdout",
     "output_type": "stream",
     "text": [
      "\n",
      "Classification Report:\n",
      "               precision    recall  f1-score   support\n",
      "\n",
      "           0       0.91      0.94      0.92      6069\n",
      "           1       0.94      0.91      0.92      6195\n",
      "\n",
      "    accuracy                           0.92     12264\n",
      "   macro avg       0.92      0.92      0.92     12264\n",
      "weighted avg       0.92      0.92      0.92     12264\n",
      "\n"
     ]
    }
   ],
   "execution_count": 17
  }
 ],
 "metadata": {
  "kernelspec": {
   "display_name": "Python 3",
   "language": "python",
   "name": "python3"
  },
  "language_info": {
   "codemirror_mode": {
    "name": "ipython",
    "version": 2
   },
   "file_extension": ".py",
   "mimetype": "text/x-python",
   "name": "python",
   "nbconvert_exporter": "python",
   "pygments_lexer": "ipython2",
   "version": "2.7.6"
  },
  "colab": {
   "provenance": [],
   "include_colab_link": true
  }
 },
 "nbformat": 4,
 "nbformat_minor": 5
}
