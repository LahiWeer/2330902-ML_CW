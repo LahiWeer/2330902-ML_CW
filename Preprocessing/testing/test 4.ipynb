{
 "cells": [
  {
   "metadata": {
    "collapsed": true,
    "ExecuteTime": {
     "end_time": "2024-12-23T02:36:06.338357Z",
     "start_time": "2024-12-23T02:36:05.464577Z"
    }
   },
   "cell_type": "code",
   "source": [
    "import pandas as pd\n",
    "\n",
    "# Load the uploaded CSV file to inspect its structure\n",
    "file_path = 'data_no_outliers.csv'\n",
    "bank_data = pd.read_csv(file_path)\n",
    "\n",
    "# Display the first few rows to understand the structure and verify columns\n",
    "print(bank_data.info())"
   ],
   "id": "initial_id",
   "outputs": [
    {
     "name": "stdout",
     "output_type": "stream",
     "text": [
      "<class 'pandas.core.frame.DataFrame'>\n",
      "RangeIndex: 38688 entries, 0 to 38687\n",
      "Data columns (total 31 columns):\n",
      " #   Column             Non-Null Count  Dtype  \n",
      "---  ------             --------------  -----  \n",
      " 0   age                38688 non-null  int64  \n",
      " 1   job_blue-collar    38688 non-null  int64  \n",
      " 2   job_entrepreneur   38688 non-null  int64  \n",
      " 3   job_housemaid      38688 non-null  int64  \n",
      " 4   job_management     38688 non-null  int64  \n",
      " 5   job_retired        38688 non-null  int64  \n",
      " 6   job_self-employed  38688 non-null  int64  \n",
      " 7   job_services       38688 non-null  int64  \n",
      " 8   job_student        38688 non-null  int64  \n",
      " 9   job_technician     38688 non-null  int64  \n",
      " 10  job_unemployed     38688 non-null  int64  \n",
      " 11  marital_single     38688 non-null  int64  \n",
      " 12  marital_married    38688 non-null  int64  \n",
      " 13  marital_divorced   38688 non-null  int64  \n",
      " 14  education          38688 non-null  int64  \n",
      " 15  default            38688 non-null  int64  \n",
      " 16  housing            38688 non-null  int64  \n",
      " 17  loan               38688 non-null  int64  \n",
      " 18  contact            38688 non-null  int64  \n",
      " 19  month              38688 non-null  int64  \n",
      " 20  day_of_week        38688 non-null  int64  \n",
      " 21  campaign           38688 non-null  int64  \n",
      " 22  pdays              38688 non-null  int64  \n",
      " 23  previous           38688 non-null  int64  \n",
      " 24  poutcome           38688 non-null  int64  \n",
      " 25  emp.var.rate       38688 non-null  float64\n",
      " 26  cons.price.idx     38688 non-null  float64\n",
      " 27  cons.conf.idx      38688 non-null  float64\n",
      " 28  euribor3m          38688 non-null  float64\n",
      " 29  nr.employed        38688 non-null  float64\n",
      " 30  y                  38688 non-null  int64  \n",
      "dtypes: float64(5), int64(26)\n",
      "memory usage: 9.2 MB\n",
      "None\n"
     ]
    }
   ],
   "execution_count": 9
  },
  {
   "metadata": {
    "ExecuteTime": {
     "end_time": "2024-12-23T02:36:13.737198Z",
     "start_time": "2024-12-23T02:36:13.694139Z"
    }
   },
   "cell_type": "code",
   "source": [
    "# Filter rows where pdays = 999 and poutcome is not -1\n",
    "invalid_rows = bank_data[(bank_data['pdays'] == 999) & (bank_data['poutcome'] != -1)]\n",
    "\n",
    "# Count and display the number of invalid rows\n",
    "invalid_count = len(invalid_rows)\n",
    "print(f\"Number of invalid rows where pdays = 999 but poutcome is not -1: {invalid_count}\")\n",
    "\n",
    "# Calculate the percentage of invalid rows\n",
    "total_rows = len(bank_data)\n",
    "removed_percentage = (invalid_count / total_rows) * 100\n",
    "# Display the percentage of invalid rows\n",
    "print(f\"Removed {invalid_count} invalid rows, which is {removed_percentage:.2f}% of the total dataset.\")"
   ],
   "id": "ff757c188eff4429",
   "outputs": [
    {
     "name": "stdout",
     "output_type": "stream",
     "text": [
      "Number of invalid rows where pdays = 999 but poutcome is not -1: 4001\n",
      "Removed 4001 invalid rows, which is 10.34% of the total dataset.\n"
     ]
    }
   ],
   "execution_count": 10
  },
  {
   "metadata": {
    "ExecuteTime": {
     "end_time": "2024-12-22T14:56:17.334360Z",
     "start_time": "2024-12-22T14:56:17.324721Z"
    }
   },
   "cell_type": "code",
   "source": [
    "# Display the invalid rows if needed\n",
    "if invalid_count > 0:\n",
    "    print(\"Invalid rows:\")\n",
    "    print(invalid_rows)"
   ],
   "id": "808056b1beeaff63",
   "outputs": [
    {
     "name": "stdout",
     "output_type": "stream",
     "text": [
      "Invalid rows:\n",
      "       age  job_blue-collar  job_entrepreneur  job_housemaid  job_management  \\\n",
      "22475   38                1                 0              0               0   \n",
      "22481   40                0                 0              0               0   \n",
      "22537   36                0                 0              0               0   \n",
      "22563   36                0                 0              0               0   \n",
      "22574   29                0                 0              0               0   \n",
      "...    ...              ...               ...            ...             ...   \n",
      "38909   32                0                 0              0               0   \n",
      "38913   40                0                 0              0               1   \n",
      "38916   62                0                 0              0               0   \n",
      "38918   34                0                 0              0               0   \n",
      "38930   74                0                 0              0               0   \n",
      "\n",
      "       job_retired  job_self-employed  job_services  job_student  \\\n",
      "22475            0                  0             0            0   \n",
      "22481            0                  0             1            0   \n",
      "22537            0                  0             0            0   \n",
      "22563            0                  0             0            0   \n",
      "22574            0                  1             0            0   \n",
      "...            ...                ...           ...          ...   \n",
      "38909            0                  0             0            0   \n",
      "38913            0                  0             0            0   \n",
      "38916            1                  0             0            0   \n",
      "38918            0                  0             0            1   \n",
      "38930            1                  0             0            0   \n",
      "\n",
      "       job_technician  ...  campaign  pdays  previous  poutcome  emp.var.rate  \\\n",
      "22475               0  ...         1    999         1         0          -0.1   \n",
      "22481               0  ...         1    999         1         0          -0.1   \n",
      "22537               0  ...         1    999         1         0          -0.1   \n",
      "22563               0  ...         1    999         1         0          -0.1   \n",
      "22574               0  ...         1    999         1         0          -0.1   \n",
      "...               ...  ...       ...    ...       ...       ...           ...   \n",
      "38909               0  ...         1    999         1         0          -1.1   \n",
      "38913               0  ...         2    999         4         0          -1.1   \n",
      "38916               0  ...         1    999         2         0          -1.1   \n",
      "38918               0  ...         1    999         2         0          -1.1   \n",
      "38930               0  ...         3    999         1         0          -1.1   \n",
      "\n",
      "       cons.price.idx  cons.conf.idx  euribor3m  nr.employed  y  \n",
      "22475          93.798          -40.4      4.968       5195.8  0  \n",
      "22481          93.798          -40.4      4.968       5195.8  1  \n",
      "22537          93.200          -42.0      4.663       5195.8  0  \n",
      "22563          93.200          -42.0      4.286       5195.8  1  \n",
      "22574          93.200          -42.0      4.245       5195.8  0  \n",
      "...               ...            ...        ...          ... ..  \n",
      "38909          94.767          -50.8      1.030       4963.6  1  \n",
      "38913          94.767          -50.8      1.030       4963.6  0  \n",
      "38916          94.767          -50.8      1.031       4963.6  1  \n",
      "38918          94.767          -50.8      1.031       4963.6  0  \n",
      "38930          94.767          -50.8      1.028       4963.6  0  \n",
      "\n",
      "[4001 rows x 31 columns]\n"
     ]
    }
   ],
   "execution_count": 5
  },
  {
   "metadata": {
    "ExecuteTime": {
     "end_time": "2024-12-23T02:58:42.722735Z",
     "start_time": "2024-12-23T02:58:34.866923Z"
    }
   },
   "cell_type": "code",
   "source": [
    "# Load the dataset\n",
    "file_path = '../Processed data in each step/cleaned_data_without_duplicates.csv'\n",
    "df = pd.read_csv(file_path)\n",
    "df.info()\n",
    "df['poutcome'].value_counts()"
   ],
   "id": "57b3b6a7cd7408e0",
   "outputs": [
    {
     "name": "stdout",
     "output_type": "stream",
     "text": [
      "Initial row count: 38931\n",
      "Saved 4001 invalid rows to 'invalid_rows_pdays_999.csv'.\n",
      "Row count of cleaned dataset: 34930\n",
      "Random Forest - Original Data:\n",
      "Accuracy: 0.89\n",
      "              precision    recall  f1-score   support\n",
      "\n",
      "           0       0.91      0.97      0.94     10278\n",
      "           1       0.56      0.27      0.37      1402\n",
      "\n",
      "    accuracy                           0.89     11680\n",
      "   macro avg       0.73      0.62      0.65     11680\n",
      "weighted avg       0.87      0.89      0.87     11680\n",
      "\n",
      "Neural Network - Original Data:\n",
      "Accuracy: 0.89\n",
      "              precision    recall  f1-score   support\n",
      "\n",
      "           0       0.90      0.98      0.94     10278\n",
      "           1       0.63      0.21      0.32      1402\n",
      "\n",
      "    accuracy                           0.89     11680\n",
      "   macro avg       0.77      0.60      0.63     11680\n",
      "weighted avg       0.87      0.89      0.87     11680\n",
      "\n",
      "Random Forest - Cleaned Data:\n",
      "Accuracy: 0.89\n",
      "              precision    recall  f1-score   support\n",
      "\n",
      "           0       0.92      0.96      0.94      9299\n",
      "           1       0.53      0.32      0.40      1180\n",
      "\n",
      "    accuracy                           0.89     10479\n",
      "   macro avg       0.72      0.64      0.67     10479\n",
      "weighted avg       0.87      0.89      0.88     10479\n",
      "\n",
      "Neural Network - Cleaned Data:\n",
      "Accuracy: 0.88\n",
      "              precision    recall  f1-score   support\n",
      "\n",
      "           0       0.90      0.98      0.94      9299\n",
      "           1       0.45      0.16      0.23      1180\n",
      "\n",
      "    accuracy                           0.88     10479\n",
      "   macro avg       0.68      0.57      0.58     10479\n",
      "weighted avg       0.85      0.88      0.86     10479\n",
      "\n",
      "Filtered 4001 invalid rows, which is 10.28% of the total dataset.\n"
     ]
    }
   ],
   "execution_count": 15
  },
  {
   "metadata": {
    "ExecuteTime": {
     "end_time": "2024-12-23T02:59:45.949235Z",
     "start_time": "2024-12-23T02:59:45.724523Z"
    }
   },
   "cell_type": "code",
   "source": "",
   "id": "9dad42a411ae2481",
   "outputs": [
    {
     "name": "stdout",
     "output_type": "stream",
     "text": [
      "Saved the cleaned dataset to 'bank_data_cleaned.csv'.\n"
     ]
    }
   ],
   "execution_count": 16
  }
 ],
 "metadata": {
  "kernelspec": {
   "display_name": "Python 3",
   "language": "python",
   "name": "python3"
  },
  "language_info": {
   "codemirror_mode": {
    "name": "ipython",
    "version": 2
   },
   "file_extension": ".py",
   "mimetype": "text/x-python",
   "name": "python",
   "nbconvert_exporter": "python",
   "pygments_lexer": "ipython2",
   "version": "2.7.6"
  }
 },
 "nbformat": 4,
 "nbformat_minor": 5
}
