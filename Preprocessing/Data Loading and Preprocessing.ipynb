{
 "cells": [
  {
   "cell_type": "code",
   "id": "initial_id",
   "metadata": {
    "collapsed": true,
    "ExecuteTime": {
     "end_time": "2024-12-14T18:18:28.612307Z",
     "start_time": "2024-12-14T18:18:28.563256Z"
    }
   },
   "source": [
    "import pandas as pd\n",
    "import numpy as np"
   ],
   "outputs": [],
   "execution_count": 25
  },
  {
   "metadata": {
    "ExecuteTime": {
     "end_time": "2024-12-14T18:18:30.999401Z",
     "start_time": "2024-12-14T18:18:30.820029Z"
    }
   },
   "cell_type": "code",
   "source": [
    "# Load the dataset\n",
    "data = pd.read_csv(\"new-bank-additional-full.csv\")\n",
    "print(data.info())"
   ],
   "id": "e64f5f572ffa47b8",
   "outputs": [
    {
     "name": "stdout",
     "output_type": "stream",
     "text": [
      "<class 'pandas.core.frame.DataFrame'>\n",
      "RangeIndex: 41188 entries, 0 to 41187\n",
      "Data columns (total 21 columns):\n",
      " #   Column          Non-Null Count  Dtype  \n",
      "---  ------          --------------  -----  \n",
      " 0   age             41188 non-null  int64  \n",
      " 1   job             41188 non-null  object \n",
      " 2   marital         41188 non-null  object \n",
      " 3   education       41188 non-null  object \n",
      " 4   default         41188 non-null  object \n",
      " 5   housing         41188 non-null  object \n",
      " 6   loan            41188 non-null  object \n",
      " 7   contact         41188 non-null  object \n",
      " 8   month           41188 non-null  object \n",
      " 9   day_of_week     41188 non-null  object \n",
      " 10  duration        41188 non-null  int64  \n",
      " 11  campaign        41188 non-null  int64  \n",
      " 12  pdays           41188 non-null  int64  \n",
      " 13  previous        41188 non-null  int64  \n",
      " 14  poutcome        41188 non-null  object \n",
      " 15  emp.var.rate    41188 non-null  float64\n",
      " 16  cons.price.idx  41188 non-null  float64\n",
      " 17  cons.conf.idx   41188 non-null  float64\n",
      " 18  euribor3m       41188 non-null  float64\n",
      " 19  nr.employed     41188 non-null  float64\n",
      " 20  y               41188 non-null  object \n",
      "dtypes: float64(5), int64(5), object(11)\n",
      "memory usage: 6.6+ MB\n",
      "None\n"
     ]
    }
   ],
   "execution_count": 26
  },
  {
   "metadata": {
    "ExecuteTime": {
     "end_time": "2024-12-14T18:18:36.523721Z",
     "start_time": "2024-12-14T18:18:36.467171Z"
    }
   },
   "cell_type": "code",
   "source": [
    "# Step 2: Preprocessing\n",
    "# Replace \"unknown\" with NaN\n",
    "columns_to_consider = [\"default\", \"housing\", \"loan\", \"job\"]\n",
    "data = data.replace(\"unknown\", np.nan)\n",
    "\n",
    "# Before dropping rows, print the number of rows before dropping\n",
    "# Before dropping rows, print the number of rows before dropping\n",
    "rows_before = len(data)\n",
    "print(f\"Rows before removing unknown values: {rows_before}\")\n",
    "\n",
    "# Drop rows with NaN in specified columns\n",
    "data = data.dropna(subset=columns_to_consider)\n",
    "\n",
    "# After dropping rows, print the number of rows after dropping\n",
    "rows_after = len(data)\n",
    "print(f\"Rows after removing unknown values: {rows_after}\")\n",
    "\n",
    "# Print how many rows were dropped\n",
    "rows_deleted = rows_before - rows_after\n",
    "print(f\"Rows dropped after removing unknown values: {rows_deleted}\")"
   ],
   "id": "6a15b31b6b599fe5",
   "outputs": [
    {
     "name": "stdout",
     "output_type": "stream",
     "text": [
      "Rows before removing unknown values: 41188\n",
      "Rows after removing unknown values: 31651\n",
      "Rows dropped after removing unknown values: 9537\n"
     ]
    }
   ],
   "execution_count": 27
  },
  {
   "metadata": {
    "ExecuteTime": {
     "end_time": "2024-12-14T18:11:10.521943Z",
     "start_time": "2024-12-14T18:11:10.508339Z"
    }
   },
   "cell_type": "code",
   "source": [
    "# Drop the 'duration' column as it leaks information\n",
    "data.drop(columns=[\"duration\"], inplace=True)"
   ],
   "id": "dacb59d0185e5a2a",
   "outputs": [],
   "execution_count": 21
  },
  {
   "metadata": {
    "ExecuteTime": {
     "end_time": "2024-12-14T18:11:15.974505Z",
     "start_time": "2024-12-14T18:11:15.923525Z"
    }
   },
   "cell_type": "code",
   "source": [
    "# Handle missing values (Imputation using mode)\n",
    "data.fillna(data.mode().iloc[0], inplace=True)"
   ],
   "id": "20656733da913009",
   "outputs": [],
   "execution_count": 22
  },
  {
   "metadata": {
    "ExecuteTime": {
     "end_time": "2024-12-14T18:11:18.421680Z",
     "start_time": "2024-12-14T18:11:18.416569Z"
    }
   },
   "cell_type": "code",
   "source": [
    "# Encode target variable\n",
    "data['y'] = data['y'].map({\"yes\": 1, \"no\": 0})"
   ],
   "id": "4baff486473ec956",
   "outputs": [],
   "execution_count": 23
  },
  {
   "metadata": {
    "ExecuteTime": {
     "end_time": "2024-12-14T18:11:22.906092Z",
     "start_time": "2024-12-14T18:11:22.745287Z"
    }
   },
   "cell_type": "code",
   "source": [
    "# Save processed data\n",
    "data.to_csv(\"processed_bank_data.csv\", index=False)"
   ],
   "id": "465ca44c5765f0e7",
   "outputs": [],
   "execution_count": 24
  }
 ],
 "metadata": {
  "kernelspec": {
   "display_name": "Python 3",
   "language": "python",
   "name": "python3"
  },
  "language_info": {
   "codemirror_mode": {
    "name": "ipython",
    "version": 2
   },
   "file_extension": ".py",
   "mimetype": "text/x-python",
   "name": "python",
   "nbconvert_exporter": "python",
   "pygments_lexer": "ipython2",
   "version": "2.7.6"
  }
 },
 "nbformat": 4,
 "nbformat_minor": 5
}
