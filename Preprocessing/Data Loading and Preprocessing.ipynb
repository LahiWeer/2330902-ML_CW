{
 "cells": [
  {
   "cell_type": "code",
   "id": "initial_id",
   "metadata": {
    "collapsed": true,
    "ExecuteTime": {
     "end_time": "2024-12-16T14:18:36.865958Z",
     "start_time": "2024-12-16T14:18:36.861617Z"
    }
   },
   "source": [
    "import pandas as pd\n",
    "import numpy as np\n",
    "from sklearn.preprocessing import LabelEncoder"
   ],
   "outputs": [],
   "execution_count": 741
  },
  {
   "metadata": {
    "ExecuteTime": {
     "end_time": "2024-12-16T14:18:39.883780Z",
     "start_time": "2024-12-16T14:18:39.697960Z"
    }
   },
   "cell_type": "code",
   "source": [
    "# Load the dataset\n",
    "data = pd.read_csv(\"new-bank-additional-full.csv\")\n",
    "print(data.info())"
   ],
   "id": "e64f5f572ffa47b8",
   "outputs": [
    {
     "name": "stdout",
     "output_type": "stream",
     "text": [
      "<class 'pandas.core.frame.DataFrame'>\n",
      "RangeIndex: 41188 entries, 0 to 41187\n",
      "Data columns (total 21 columns):\n",
      " #   Column          Non-Null Count  Dtype  \n",
      "---  ------          --------------  -----  \n",
      " 0   age             41188 non-null  int64  \n",
      " 1   job             41188 non-null  object \n",
      " 2   marital         41188 non-null  object \n",
      " 3   education       41188 non-null  object \n",
      " 4   default         41188 non-null  object \n",
      " 5   housing         41188 non-null  object \n",
      " 6   loan            41188 non-null  object \n",
      " 7   contact         41188 non-null  object \n",
      " 8   month           41188 non-null  object \n",
      " 9   day_of_week     41188 non-null  object \n",
      " 10  duration        41188 non-null  int64  \n",
      " 11  campaign        41188 non-null  int64  \n",
      " 12  pdays           41188 non-null  int64  \n",
      " 13  previous        41188 non-null  int64  \n",
      " 14  poutcome        41188 non-null  object \n",
      " 15  emp.var.rate    41188 non-null  float64\n",
      " 16  cons.price.idx  41188 non-null  float64\n",
      " 17  cons.conf.idx   41188 non-null  float64\n",
      " 18  euribor3m       41188 non-null  float64\n",
      " 19  nr.employed     41188 non-null  float64\n",
      " 20  y               41188 non-null  object \n",
      "dtypes: float64(5), int64(5), object(11)\n",
      "memory usage: 6.6+ MB\n",
      "None\n"
     ]
    }
   ],
   "execution_count": 742
  },
  {
   "metadata": {
    "ExecuteTime": {
     "end_time": "2024-12-16T14:18:43.835008Z",
     "start_time": "2024-12-16T14:18:43.805498Z"
    }
   },
   "cell_type": "code",
   "source": "data['marital'].value_counts()",
   "id": "b6ffdbaa356ab449",
   "outputs": [
    {
     "data": {
      "text/plain": [
       "marital\n",
       "married     24928\n",
       "single      11568\n",
       "divorced     4612\n",
       "unknown        80\n",
       "Name: count, dtype: int64"
      ]
     },
     "execution_count": 743,
     "metadata": {},
     "output_type": "execute_result"
    }
   ],
   "execution_count": 743
  },
  {
   "metadata": {
    "ExecuteTime": {
     "end_time": "2024-12-16T14:18:48.292696Z",
     "start_time": "2024-12-16T14:18:48.286200Z"
    }
   },
   "cell_type": "code",
   "source": "data['default'].value_counts()",
   "id": "4dfdca23abbf5442",
   "outputs": [
    {
     "data": {
      "text/plain": [
       "default\n",
       "no         32588\n",
       "unknown     8597\n",
       "yes            3\n",
       "Name: count, dtype: int64"
      ]
     },
     "execution_count": 744,
     "metadata": {},
     "output_type": "execute_result"
    }
   ],
   "execution_count": 744
  },
  {
   "metadata": {
    "ExecuteTime": {
     "end_time": "2024-12-16T14:18:50.640576Z",
     "start_time": "2024-12-16T14:18:50.633545Z"
    }
   },
   "cell_type": "code",
   "source": "data['default'] = data['default'].map({'no': 0, 'yes': 1, 'unknown': -1})",
   "id": "93ba3b8210ba0f70",
   "outputs": [],
   "execution_count": 745
  },
  {
   "metadata": {
    "ExecuteTime": {
     "end_time": "2024-12-16T14:18:53.414651Z",
     "start_time": "2024-12-16T14:18:53.406209Z"
    }
   },
   "cell_type": "code",
   "source": "data['housing'].value_counts()",
   "id": "fc26054fbbfff195",
   "outputs": [
    {
     "data": {
      "text/plain": [
       "housing\n",
       "yes        21576\n",
       "no         18622\n",
       "unknown      990\n",
       "Name: count, dtype: int64"
      ]
     },
     "execution_count": 746,
     "metadata": {},
     "output_type": "execute_result"
    }
   ],
   "execution_count": 746
  },
  {
   "metadata": {
    "ExecuteTime": {
     "end_time": "2024-12-16T14:18:55.479049Z",
     "start_time": "2024-12-16T14:18:55.471709Z"
    }
   },
   "cell_type": "code",
   "source": "data['housing'] = data['housing'].map({'no': 0, 'yes': 1, 'unknown': -1})",
   "id": "4e183a03df61c86a",
   "outputs": [],
   "execution_count": 747
  },
  {
   "metadata": {
    "ExecuteTime": {
     "end_time": "2024-12-16T14:18:57.859102Z",
     "start_time": "2024-12-16T14:18:57.849797Z"
    }
   },
   "cell_type": "code",
   "source": "data['loan'].value_counts()",
   "id": "c87af3ff2cffa410",
   "outputs": [
    {
     "data": {
      "text/plain": [
       "loan\n",
       "no         33950\n",
       "yes         6248\n",
       "unknown      990\n",
       "Name: count, dtype: int64"
      ]
     },
     "execution_count": 748,
     "metadata": {},
     "output_type": "execute_result"
    }
   ],
   "execution_count": 748
  },
  {
   "metadata": {
    "ExecuteTime": {
     "end_time": "2024-12-16T14:19:00.172506Z",
     "start_time": "2024-12-16T14:19:00.165961Z"
    }
   },
   "cell_type": "code",
   "source": "data['loan'] = data['loan'].map({'no': 0, 'yes': 1, 'unknown': -1})",
   "id": "595855b95e60afe9",
   "outputs": [],
   "execution_count": 749
  },
  {
   "metadata": {
    "ExecuteTime": {
     "end_time": "2024-12-16T14:19:02.214282Z",
     "start_time": "2024-12-16T14:19:02.207121Z"
    }
   },
   "cell_type": "code",
   "source": "data['contact'].value_counts()",
   "id": "47d424c32d38cd7",
   "outputs": [
    {
     "data": {
      "text/plain": [
       "contact\n",
       "cellular     26144\n",
       "telephone    15044\n",
       "Name: count, dtype: int64"
      ]
     },
     "execution_count": 750,
     "metadata": {},
     "output_type": "execute_result"
    }
   ],
   "execution_count": 750
  },
  {
   "metadata": {
    "ExecuteTime": {
     "end_time": "2024-12-16T14:19:04.594219Z",
     "start_time": "2024-12-16T14:19:04.586729Z"
    }
   },
   "cell_type": "code",
   "source": "data['contact'] = data['contact'].map({'cellular': 1, 'telephone': 0})",
   "id": "2949c20599995cfe",
   "outputs": [],
   "execution_count": 751
  },
  {
   "metadata": {
    "ExecuteTime": {
     "end_time": "2024-12-16T14:19:06.420083Z",
     "start_time": "2024-12-16T14:19:06.411729Z"
    }
   },
   "cell_type": "code",
   "source": "data['month'].value_counts()",
   "id": "9fb1ae8f15435def",
   "outputs": [
    {
     "data": {
      "text/plain": [
       "month\n",
       "may    13769\n",
       "jul     7174\n",
       "aug     6178\n",
       "jun     5318\n",
       "nov     4101\n",
       "apr     2632\n",
       "oct      718\n",
       "sep      570\n",
       "mar      546\n",
       "dec      182\n",
       "Name: count, dtype: int64"
      ]
     },
     "execution_count": 752,
     "metadata": {},
     "output_type": "execute_result"
    }
   ],
   "execution_count": 752
  },
  {
   "metadata": {
    "ExecuteTime": {
     "end_time": "2024-12-16T14:19:09.970205Z",
     "start_time": "2024-12-16T14:19:09.963191Z"
    }
   },
   "cell_type": "code",
   "source": [
    "month_mapping = {'jan': 1, 'feb': 2, 'mar': 3, 'apr': 4, 'may': 5, 'jun': 6,\n",
    "                 'jul': 7, 'aug': 8, 'sep': 9, 'oct': 10, 'nov': 11, 'dec': 12}\n",
    "\n",
    "data['month'] = data['month'].map(month_mapping)"
   ],
   "id": "5e4dc3ec79f28246",
   "outputs": [],
   "execution_count": 753
  },
  {
   "metadata": {
    "ExecuteTime": {
     "end_time": "2024-12-16T14:19:13.761139Z",
     "start_time": "2024-12-16T14:19:13.753243Z"
    }
   },
   "cell_type": "code",
   "source": "data['day_of_week'].value_counts()",
   "id": "e4edd480bcd23f61",
   "outputs": [
    {
     "data": {
      "text/plain": [
       "day_of_week\n",
       "thu    8623\n",
       "mon    8514\n",
       "wed    8134\n",
       "tue    8090\n",
       "fri    7827\n",
       "Name: count, dtype: int64"
      ]
     },
     "execution_count": 754,
     "metadata": {},
     "output_type": "execute_result"
    }
   ],
   "execution_count": 754
  },
  {
   "metadata": {
    "ExecuteTime": {
     "end_time": "2024-12-16T14:19:16.389470Z",
     "start_time": "2024-12-16T14:19:16.382624Z"
    }
   },
   "cell_type": "code",
   "source": [
    "day_mapping = {'mon': 1, 'tue': 2, 'wed': 3, 'thu': 4, 'fri': 5}\n",
    "data['day_of_week'] = data['day_of_week'].map(day_mapping)"
   ],
   "id": "203126e3267c3c4e",
   "outputs": [],
   "execution_count": 755
  },
  {
   "metadata": {
    "ExecuteTime": {
     "end_time": "2024-12-16T14:19:18.936810Z",
     "start_time": "2024-12-16T14:19:18.929853Z"
    }
   },
   "cell_type": "code",
   "source": "data['poutcome'].value_counts()",
   "id": "3ce5dfdc2ba97e8e",
   "outputs": [
    {
     "data": {
      "text/plain": [
       "poutcome\n",
       "nonexistent    35563\n",
       "failure         4252\n",
       "success         1373\n",
       "Name: count, dtype: int64"
      ]
     },
     "execution_count": 756,
     "metadata": {},
     "output_type": "execute_result"
    }
   ],
   "execution_count": 756
  },
  {
   "metadata": {
    "ExecuteTime": {
     "end_time": "2024-12-16T14:19:23.117856Z",
     "start_time": "2024-12-16T14:19:23.110428Z"
    }
   },
   "cell_type": "code",
   "source": [
    "poutcome_mapping = {'nonexistent': 0, 'failure': 1, 'success': 2}\n",
    "data['poutcome'] = data['poutcome'].map(poutcome_mapping)"
   ],
   "id": "11ee73edccc4e690",
   "outputs": [],
   "execution_count": 757
  },
  {
   "metadata": {
    "ExecuteTime": {
     "end_time": "2024-12-16T14:19:26.045163Z",
     "start_time": "2024-12-16T14:19:26.038666Z"
    }
   },
   "cell_type": "code",
   "source": "data['education'].value_counts()",
   "id": "56a9da630eff86dc",
   "outputs": [
    {
     "data": {
      "text/plain": [
       "education\n",
       "university.degree      12168\n",
       "high.school             9515\n",
       "basic.9y                6045\n",
       "professional.course     5243\n",
       "basic.4y                4176\n",
       "basic.6y                2292\n",
       "unknown                 1731\n",
       "illiterate                18\n",
       "Name: count, dtype: int64"
      ]
     },
     "execution_count": 758,
     "metadata": {},
     "output_type": "execute_result"
    }
   ],
   "execution_count": 758
  },
  {
   "metadata": {
    "ExecuteTime": {
     "end_time": "2024-12-16T14:19:28.438459Z",
     "start_time": "2024-12-16T14:19:28.429069Z"
    }
   },
   "cell_type": "code",
   "source": [
    "education_mapping = {\n",
    "    'illiterate': 0,\n",
    "    'basic.4y': 1,\n",
    "    'basic.6y': 2,\n",
    "    'basic.9y': 3,\n",
    "    'high.school': 4,\n",
    "    'professional.course': 5,\n",
    "    'university.degree': 6,\n",
    "    'unknown': 0  # Treat 'unknown' the same as 'illiterate'\n",
    "}\n",
    "\n",
    "data['education'] = data['education'].map(education_mapping)"
   ],
   "id": "7cb2d99faa808083",
   "outputs": [],
   "execution_count": 759
  },
  {
   "metadata": {
    "ExecuteTime": {
     "end_time": "2024-12-16T14:19:30.669950Z",
     "start_time": "2024-12-16T14:19:30.662096Z"
    }
   },
   "cell_type": "code",
   "source": "data['job'].value_counts()",
   "id": "95aa4df043ef096d",
   "outputs": [
    {
     "data": {
      "text/plain": [
       "job\n",
       "admin.           10422\n",
       "blue-collar       9254\n",
       "technician        6743\n",
       "services          3969\n",
       "management        2924\n",
       "retired           1720\n",
       "entrepreneur      1456\n",
       "self-employed     1421\n",
       "housemaid         1060\n",
       "unemployed        1014\n",
       "student            875\n",
       "unknown            330\n",
       "Name: count, dtype: int64"
      ]
     },
     "execution_count": 760,
     "metadata": {},
     "output_type": "execute_result"
    }
   ],
   "execution_count": 760
  },
  {
   "metadata": {
    "ExecuteTime": {
     "end_time": "2024-12-16T14:19:34.348174Z",
     "start_time": "2024-12-16T14:19:34.311251Z"
    }
   },
   "cell_type": "code",
   "source": [
    "# Replace \"unknown\" with NaN\n",
    "columns_to_consider = [\"marital\",\"job\"]\n",
    "data = data.replace(\"unknown\", np.nan)\n",
    "\n",
    "# Before dropping rows, print the number of rows before dropping\n",
    "rows_before = len(data)\n",
    "print(f\"Rows before removing unknown values: {rows_before}\")\n",
    "\n",
    "# Drop rows with NaN in specified columns\n",
    "data = data.dropna(subset=columns_to_consider)\n",
    "\n",
    "# After dropping rows, print the number of rows after dropping\n",
    "rows_after = len(data)\n",
    "print(f\"Rows after removing unknown values: {rows_after}\")\n",
    "\n",
    "# Print how many rows were dropped\n",
    "rows_deleted = rows_before - rows_after\n",
    "print(f\"Rows dropped after removing unknown values: {rows_deleted}\")"
   ],
   "id": "6a15b31b6b599fe5",
   "outputs": [
    {
     "name": "stdout",
     "output_type": "stream",
     "text": [
      "Rows before removing unknown values: 41188\n",
      "Rows after removing unknown values: 40787\n",
      "Rows dropped after removing unknown values: 401\n"
     ]
    }
   ],
   "execution_count": 761
  },
  {
   "metadata": {
    "ExecuteTime": {
     "end_time": "2024-12-16T14:19:37.417935Z",
     "start_time": "2024-12-16T14:19:37.406367Z"
    }
   },
   "cell_type": "code",
   "source": [
    "# Drop the 'duration' column as it leaks information\n",
    "data.drop(columns=[\"duration\"], inplace=True)"
   ],
   "id": "dacb59d0185e5a2a",
   "outputs": [],
   "execution_count": 762
  },
  {
   "metadata": {
    "ExecuteTime": {
     "end_time": "2024-12-16T14:19:40.478483Z",
     "start_time": "2024-12-16T14:19:40.471411Z"
    }
   },
   "cell_type": "code",
   "source": [
    "# Encode target variable\n",
    "data['y'] = data['y'].map({\"yes\": 1, \"no\": 0})"
   ],
   "id": "24be1c427dcd5890",
   "outputs": [],
   "execution_count": 763
  },
  {
   "metadata": {
    "ExecuteTime": {
     "end_time": "2024-12-16T14:19:42.712637Z",
     "start_time": "2024-12-16T14:19:42.677323Z"
    }
   },
   "cell_type": "code",
   "source": [
    "# Handle missing values (Imputation using mode)\n",
    "data.fillna(data.mode().iloc[0], inplace=True)"
   ],
   "id": "20656733da913009",
   "outputs": [],
   "execution_count": 764
  },
  {
   "metadata": {
    "ExecuteTime": {
     "end_time": "2024-12-16T14:19:46.518588Z",
     "start_time": "2024-12-16T14:19:46.501294Z"
    }
   },
   "cell_type": "code",
   "source": [
    "# Custom One-Hot Encoding for 'marital'\n",
    "data['marital_single'] = (data['marital'] == 'single').astype(int)\n",
    "data['marital_married'] = (data['marital'] == 'married').astype(int)\n",
    "\n",
    "# Drop the original 'marital' column if no longer needed\n",
    "data.drop(columns=['marital'], inplace=True)"
   ],
   "id": "d85dab1cbed939c8",
   "outputs": [],
   "execution_count": 765
  },
  {
   "metadata": {},
   "cell_type": "markdown",
   "source": "For Neural Networks",
   "id": "f73bfb64218cdd44"
  },
  {
   "metadata": {
    "ExecuteTime": {
     "end_time": "2024-12-16T14:19:48.923663Z",
     "start_time": "2024-12-16T14:19:48.881380Z"
    }
   },
   "cell_type": "code",
   "source": [
    "# One-Hot Encoding for job column\n",
    "data_nn = pd.get_dummies(data, columns=[\"job\"], drop_first=True)\n",
    "\n",
    "# Convert boolean True/False to 1/0 for One-Hot Encoded columns\n",
    "boolean_columns = data_nn.select_dtypes(include=[bool]).columns  # Select only boolean columns\n",
    "data_nn[boolean_columns] = data_nn[boolean_columns].astype(int)\n",
    "\n",
    "# Print the first few rows to verify the changes\n",
    "print(data_nn.head(10))"
   ],
   "id": "57f1a205ea1b23f2",
   "outputs": [
    {
     "name": "stdout",
     "output_type": "stream",
     "text": [
      "   age  education  default  housing  loan  contact  month  day_of_week  \\\n",
      "0   56          1        0        0     0        0      5            1   \n",
      "1   57          4       -1        0     0        0      5            1   \n",
      "2   37          4        0        1     0        0      5            1   \n",
      "3   40          2        0        0     0        0      5            1   \n",
      "4   56          4        0        0     1        0      5            1   \n",
      "5   45          3       -1        0     0        0      5            1   \n",
      "6   59          5        0        0     0        0      5            1   \n",
      "7   41          0       -1        0     0        0      5            1   \n",
      "8   24          5        0        1     0        0      5            1   \n",
      "9   25          4        0        1     0        0      5            1   \n",
      "\n",
      "   campaign  pdays  ...  job_blue-collar  job_entrepreneur  job_housemaid  \\\n",
      "0         1    999  ...                0                 0              1   \n",
      "1         1    999  ...                0                 0              0   \n",
      "2         1    999  ...                0                 0              0   \n",
      "3         1    999  ...                0                 0              0   \n",
      "4         1    999  ...                0                 0              0   \n",
      "5         1    999  ...                0                 0              0   \n",
      "6         1    999  ...                0                 0              0   \n",
      "7         1    999  ...                1                 0              0   \n",
      "8         1    999  ...                0                 0              0   \n",
      "9         1    999  ...                0                 0              0   \n",
      "\n",
      "   job_management  job_retired  job_self-employed  job_services  job_student  \\\n",
      "0               0            0                  0             0            0   \n",
      "1               0            0                  0             1            0   \n",
      "2               0            0                  0             1            0   \n",
      "3               0            0                  0             0            0   \n",
      "4               0            0                  0             1            0   \n",
      "5               0            0                  0             1            0   \n",
      "6               0            0                  0             0            0   \n",
      "7               0            0                  0             0            0   \n",
      "8               0            0                  0             0            0   \n",
      "9               0            0                  0             1            0   \n",
      "\n",
      "   job_technician  job_unemployed  \n",
      "0               0               0  \n",
      "1               0               0  \n",
      "2               0               0  \n",
      "3               0               0  \n",
      "4               0               0  \n",
      "5               0               0  \n",
      "6               0               0  \n",
      "7               0               0  \n",
      "8               1               0  \n",
      "9               0               0  \n",
      "\n",
      "[10 rows x 30 columns]\n"
     ]
    }
   ],
   "execution_count": 766
  },
  {
   "metadata": {
    "ExecuteTime": {
     "end_time": "2024-12-16T14:19:53.453948Z",
     "start_time": "2024-12-16T14:19:53.425507Z"
    }
   },
   "cell_type": "code",
   "source": [
    "# Step 5: Group 'job' categories into meaningful categories\n",
    "data['job'] = data['job'].replace({\n",
    "    'retired': 'retired',\n",
    "    'student': 'student_unemployed', 'unemployed': 'student_unemployed',\n",
    "    'blue-collar': 'blue-collar', 'technician': 'technician_services',\n",
    "    'services': 'technician_services', 'management': 'management',\n",
    "    'entrepreneur': 'entrepreneur', 'self-employed': 'self-employed',\n",
    "    'housemaid': 'housemaid', 'admin.': 'admin'\n",
    "})\n",
    "\n",
    "# Preview after job grouping\n",
    "print(\"\\nJob grouping preview:\")\n",
    "print(data['job'].value_counts())"
   ],
   "id": "c90f0b87aa0e9611",
   "outputs": [
    {
     "name": "stdout",
     "output_type": "stream",
     "text": [
      "\n",
      "Job grouping preview:\n",
      "job\n",
      "technician_services    10694\n",
      "admin                  10408\n",
      "blue-collar             9240\n",
      "management              2921\n",
      "student_unemployed      1883\n",
      "retired                 1715\n",
      "entrepreneur            1453\n",
      "self-employed           1416\n",
      "housemaid               1057\n",
      "Name: count, dtype: int64\n"
     ]
    }
   ],
   "execution_count": 767
  },
  {
   "metadata": {},
   "cell_type": "markdown",
   "source": "For Random Forests",
   "id": "b48315448571e30e"
  },
  {
   "metadata": {
    "ExecuteTime": {
     "end_time": "2024-12-16T14:19:56.489570Z",
     "start_time": "2024-12-16T14:19:56.464027Z"
    }
   },
   "cell_type": "code",
   "source": [
    "# Step 7: **For Random Forest**: Label Encoding\n",
    "# Directly encode 'job' column with LabelEncoder\n",
    "le = LabelEncoder()\n",
    "data_rf = data.copy()  # Create a copy for Random Forest\n",
    "data_rf[\"job\"] = le.fit_transform(data_rf[\"job\"])\n",
    "\n",
    "# Create a DataFrame with the encoded job mappings\n",
    "job_mapping_df = pd.DataFrame({\n",
    "    'Job Category': le.classes_,\n",
    "    'Encoded Value': le.transform(le.classes_)\n",
    "})\n",
    "\n",
    "# Display the table\n",
    "print(\"Job Encoding Mapping (in Table):\")\n",
    "print(job_mapping_df.to_string(index=False))"
   ],
   "id": "87e32bcdab4592e3",
   "outputs": [
    {
     "name": "stdout",
     "output_type": "stream",
     "text": [
      "Job Encoding Mapping (in Table):\n",
      "       Job Category  Encoded Value\n",
      "              admin              0\n",
      "        blue-collar              1\n",
      "       entrepreneur              2\n",
      "          housemaid              3\n",
      "         management              4\n",
      "            retired              5\n",
      "      self-employed              6\n",
      " student_unemployed              7\n",
      "technician_services              8\n"
     ]
    }
   ],
   "execution_count": 768
  },
  {
   "metadata": {
    "ExecuteTime": {
     "end_time": "2024-12-16T14:20:05.107590Z",
     "start_time": "2024-12-16T14:20:05.098010Z"
    }
   },
   "cell_type": "code",
   "source": [
    "# Preview after Label Encoding\n",
    "print(\"\\nPreview of first 10 rows after Label Encoding for Random Forest:\")\n",
    "print(data_rf.head(10))"
   ],
   "id": "a26268a2992963ca",
   "outputs": [
    {
     "name": "stdout",
     "output_type": "stream",
     "text": [
      "\n",
      "Preview of first 10 rows after Label Encoding for Random Forest:\n",
      "   age  job  education  default  housing  loan  contact  month  day_of_week  \\\n",
      "0   56    3          1        0        0     0        0      5            1   \n",
      "1   57    8          4       -1        0     0        0      5            1   \n",
      "2   37    8          4        0        1     0        0      5            1   \n",
      "3   40    0          2        0        0     0        0      5            1   \n",
      "4   56    8          4        0        0     1        0      5            1   \n",
      "5   45    8          3       -1        0     0        0      5            1   \n",
      "6   59    0          5        0        0     0        0      5            1   \n",
      "7   41    1          0       -1        0     0        0      5            1   \n",
      "8   24    8          5        0        1     0        0      5            1   \n",
      "9   25    8          4        0        1     0        0      5            1   \n",
      "\n",
      "   campaign  ...  previous  poutcome  emp.var.rate  cons.price.idx  \\\n",
      "0         1  ...         0         0           1.1          93.994   \n",
      "1         1  ...         0         0           1.1          93.994   \n",
      "2         1  ...         0         0           1.1          93.994   \n",
      "3         1  ...         0         0           1.1          93.994   \n",
      "4         1  ...         0         0           1.1          93.994   \n",
      "5         1  ...         0         0           1.1          93.994   \n",
      "6         1  ...         0         0           1.1          93.994   \n",
      "7         1  ...         0         0           1.1          93.994   \n",
      "8         1  ...         0         0           1.1          93.994   \n",
      "9         1  ...         0         0           1.1          93.994   \n",
      "\n",
      "   cons.conf.idx  euribor3m  nr.employed  y  marital_single  marital_married  \n",
      "0          -36.4      4.857       5191.0  0               0                1  \n",
      "1          -36.4      4.857       5191.0  0               0                1  \n",
      "2          -36.4      4.857       5191.0  0               0                1  \n",
      "3          -36.4      4.857       5191.0  0               0                1  \n",
      "4          -36.4      4.857       5191.0  0               0                1  \n",
      "5          -36.4      4.857       5191.0  0               0                1  \n",
      "6          -36.4      4.857       5191.0  0               0                1  \n",
      "7          -36.4      4.857       5191.0  0               0                1  \n",
      "8          -36.4      4.857       5191.0  0               1                0  \n",
      "9          -36.4      4.857       5191.0  0               1                0  \n",
      "\n",
      "[10 rows x 21 columns]\n"
     ]
    }
   ],
   "execution_count": 769
  },
  {
   "metadata": {
    "ExecuteTime": {
     "end_time": "2024-12-15T08:27:28.020167Z",
     "start_time": "2024-12-15T08:27:27.423302Z"
    }
   },
   "cell_type": "code",
   "source": [
    "# Save the dataset for Neural Networks\n",
    "data_nn.to_csv(\"processed_bank_data_nn.csv\", index=False)"
   ],
   "id": "1b6a198d5b5797b4",
   "outputs": [],
   "execution_count": 114
  },
  {
   "metadata": {
    "ExecuteTime": {
     "end_time": "2024-12-15T08:27:00.965543Z",
     "start_time": "2024-12-15T08:27:00.698837Z"
    }
   },
   "cell_type": "code",
   "source": [
    "# Save this dataset for Random Forest model\n",
    "data_rf.to_csv(\"processed_data_for_rf.csv\", index=False)"
   ],
   "id": "465ca44c5765f0e7",
   "outputs": [],
   "execution_count": 113
  }
 ],
 "metadata": {
  "kernelspec": {
   "display_name": "Python 3",
   "language": "python",
   "name": "python3"
  },
  "language_info": {
   "codemirror_mode": {
    "name": "ipython",
    "version": 2
   },
   "file_extension": ".py",
   "mimetype": "text/x-python",
   "name": "python",
   "nbconvert_exporter": "python",
   "pygments_lexer": "ipython2",
   "version": "2.7.6"
  }
 },
 "nbformat": 4,
 "nbformat_minor": 5
}
