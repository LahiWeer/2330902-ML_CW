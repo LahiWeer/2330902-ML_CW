{
 "cells": [
  {
   "cell_type": "code",
   "id": "initial_id",
   "metadata": {
    "collapsed": true,
    "ExecuteTime": {
     "end_time": "2024-12-22T11:49:47.002872Z",
     "start_time": "2024-12-22T11:49:46.997742Z"
    }
   },
   "source": [
    "import pandas as pd\n",
    "import numpy as np"
   ],
   "outputs": [],
   "execution_count": 5
  },
  {
   "metadata": {
    "ExecuteTime": {
     "end_time": "2024-12-22T11:49:47.139270Z",
     "start_time": "2024-12-22T11:49:47.010372Z"
    }
   },
   "cell_type": "code",
   "source": [
    "# Load the dataset\n",
    "data = pd.read_csv(\"new-bank-additional-full.csv\")\n",
    "print(data.info())"
   ],
   "id": "e64f5f572ffa47b8",
   "outputs": [
    {
     "name": "stdout",
     "output_type": "stream",
     "text": [
      "<class 'pandas.core.frame.DataFrame'>\n",
      "RangeIndex: 41188 entries, 0 to 41187\n",
      "Data columns (total 21 columns):\n",
      " #   Column          Non-Null Count  Dtype  \n",
      "---  ------          --------------  -----  \n",
      " 0   age             41188 non-null  int64  \n",
      " 1   job             41188 non-null  object \n",
      " 2   marital         41188 non-null  object \n",
      " 3   education       41188 non-null  object \n",
      " 4   default         41188 non-null  object \n",
      " 5   housing         41188 non-null  object \n",
      " 6   loan            41188 non-null  object \n",
      " 7   contact         41188 non-null  object \n",
      " 8   month           41188 non-null  object \n",
      " 9   day_of_week     41188 non-null  object \n",
      " 10  duration        41188 non-null  int64  \n",
      " 11  campaign        41188 non-null  int64  \n",
      " 12  pdays           41188 non-null  int64  \n",
      " 13  previous        41188 non-null  int64  \n",
      " 14  poutcome        41188 non-null  object \n",
      " 15  emp.var.rate    41188 non-null  float64\n",
      " 16  cons.price.idx  41188 non-null  float64\n",
      " 17  cons.conf.idx   41188 non-null  float64\n",
      " 18  euribor3m       41188 non-null  float64\n",
      " 19  nr.employed     41188 non-null  float64\n",
      " 20  y               41188 non-null  object \n",
      "dtypes: float64(5), int64(5), object(11)\n",
      "memory usage: 6.6+ MB\n",
      "None\n"
     ]
    }
   ],
   "execution_count": 6
  },
  {
   "metadata": {
    "ExecuteTime": {
     "end_time": "2024-12-22T11:49:47.173318Z",
     "start_time": "2024-12-22T11:49:47.163931Z"
    }
   },
   "cell_type": "code",
   "source": "data['default'].value_counts()",
   "id": "4dfdca23abbf5442",
   "outputs": [
    {
     "data": {
      "text/plain": [
       "default\n",
       "no         32588\n",
       "unknown     8597\n",
       "yes            3\n",
       "Name: count, dtype: int64"
      ]
     },
     "execution_count": 7,
     "metadata": {},
     "output_type": "execute_result"
    }
   ],
   "execution_count": 7
  },
  {
   "metadata": {
    "ExecuteTime": {
     "end_time": "2024-12-22T11:49:47.187345Z",
     "start_time": "2024-12-22T11:49:47.180320Z"
    }
   },
   "cell_type": "code",
   "source": "data['default'] = data['default'].map({'no': 0, 'yes': 1, 'unknown': -1})",
   "id": "93ba3b8210ba0f70",
   "outputs": [],
   "execution_count": 8
  },
  {
   "metadata": {
    "ExecuteTime": {
     "end_time": "2024-12-22T11:49:47.232909Z",
     "start_time": "2024-12-22T11:49:47.224670Z"
    }
   },
   "cell_type": "code",
   "source": "data['housing'].value_counts()",
   "id": "fc26054fbbfff195",
   "outputs": [
    {
     "data": {
      "text/plain": [
       "housing\n",
       "yes        21576\n",
       "no         18622\n",
       "unknown      990\n",
       "Name: count, dtype: int64"
      ]
     },
     "execution_count": 9,
     "metadata": {},
     "output_type": "execute_result"
    }
   ],
   "execution_count": 9
  },
  {
   "metadata": {
    "ExecuteTime": {
     "end_time": "2024-12-22T11:49:47.286319Z",
     "start_time": "2024-12-22T11:49:47.277906Z"
    }
   },
   "cell_type": "code",
   "source": "data['housing'] = data['housing'].map({'no': 0, 'yes': 1, 'unknown': -1})",
   "id": "4e183a03df61c86a",
   "outputs": [],
   "execution_count": 10
  },
  {
   "metadata": {
    "ExecuteTime": {
     "end_time": "2024-12-22T11:49:47.380990Z",
     "start_time": "2024-12-22T11:49:47.371363Z"
    }
   },
   "cell_type": "code",
   "source": "data['loan'].value_counts()",
   "id": "c87af3ff2cffa410",
   "outputs": [
    {
     "data": {
      "text/plain": [
       "loan\n",
       "no         33950\n",
       "yes         6248\n",
       "unknown      990\n",
       "Name: count, dtype: int64"
      ]
     },
     "execution_count": 11,
     "metadata": {},
     "output_type": "execute_result"
    }
   ],
   "execution_count": 11
  },
  {
   "metadata": {
    "ExecuteTime": {
     "end_time": "2024-12-22T11:49:47.454255Z",
     "start_time": "2024-12-22T11:49:47.445927Z"
    }
   },
   "cell_type": "code",
   "source": "data['loan'] = data['loan'].map({'no': 0, 'yes': 1, 'unknown': -1})",
   "id": "595855b95e60afe9",
   "outputs": [],
   "execution_count": 12
  },
  {
   "metadata": {
    "ExecuteTime": {
     "end_time": "2024-12-22T11:49:47.609241Z",
     "start_time": "2024-12-22T11:49:47.595068Z"
    }
   },
   "cell_type": "code",
   "source": "data['contact'].value_counts()",
   "id": "47d424c32d38cd7",
   "outputs": [
    {
     "data": {
      "text/plain": [
       "contact\n",
       "cellular     26144\n",
       "telephone    15044\n",
       "Name: count, dtype: int64"
      ]
     },
     "execution_count": 13,
     "metadata": {},
     "output_type": "execute_result"
    }
   ],
   "execution_count": 13
  },
  {
   "metadata": {
    "ExecuteTime": {
     "end_time": "2024-12-22T11:49:47.659487Z",
     "start_time": "2024-12-22T11:49:47.651821Z"
    }
   },
   "cell_type": "code",
   "source": "data['contact'] = data['contact'].map({'cellular': 1, 'telephone': 0})",
   "id": "2949c20599995cfe",
   "outputs": [],
   "execution_count": 14
  },
  {
   "metadata": {
    "ExecuteTime": {
     "end_time": "2024-12-22T11:49:47.790831Z",
     "start_time": "2024-12-22T11:49:47.780497Z"
    }
   },
   "cell_type": "code",
   "source": "data['month'].value_counts()",
   "id": "9fb1ae8f15435def",
   "outputs": [
    {
     "data": {
      "text/plain": [
       "month\n",
       "may    13769\n",
       "jul     7174\n",
       "aug     6178\n",
       "jun     5318\n",
       "nov     4101\n",
       "apr     2632\n",
       "oct      718\n",
       "sep      570\n",
       "mar      546\n",
       "dec      182\n",
       "Name: count, dtype: int64"
      ]
     },
     "execution_count": 15,
     "metadata": {},
     "output_type": "execute_result"
    }
   ],
   "execution_count": 15
  },
  {
   "metadata": {
    "ExecuteTime": {
     "end_time": "2024-12-22T11:49:47.853185Z",
     "start_time": "2024-12-22T11:49:47.844926Z"
    }
   },
   "cell_type": "code",
   "source": [
    "month_mapping = {'jan': 1, 'feb': 2, 'mar': 3, 'apr': 4, 'may': 5, 'jun': 6,\n",
    "                 'jul': 7, 'aug': 8, 'sep': 9, 'oct': 10, 'nov': 11, 'dec': 12}\n",
    "\n",
    "data['month'] = data['month'].map(month_mapping)"
   ],
   "id": "5e4dc3ec79f28246",
   "outputs": [],
   "execution_count": 16
  },
  {
   "metadata": {
    "ExecuteTime": {
     "end_time": "2024-12-22T11:49:47.956336Z",
     "start_time": "2024-12-22T11:49:47.949685Z"
    }
   },
   "cell_type": "code",
   "source": "data['day_of_week'].value_counts()",
   "id": "e4edd480bcd23f61",
   "outputs": [
    {
     "data": {
      "text/plain": [
       "day_of_week\n",
       "thu    8623\n",
       "mon    8514\n",
       "wed    8134\n",
       "tue    8090\n",
       "fri    7827\n",
       "Name: count, dtype: int64"
      ]
     },
     "execution_count": 17,
     "metadata": {},
     "output_type": "execute_result"
    }
   ],
   "execution_count": 17
  },
  {
   "metadata": {
    "ExecuteTime": {
     "end_time": "2024-12-22T11:49:48.008343Z",
     "start_time": "2024-12-22T11:49:47.999958Z"
    }
   },
   "cell_type": "code",
   "source": [
    "day_mapping = {'mon': 1, 'tue': 2, 'wed': 3, 'thu': 4, 'fri': 5}\n",
    "data['day_of_week'] = data['day_of_week'].map(day_mapping)"
   ],
   "id": "203126e3267c3c4e",
   "outputs": [],
   "execution_count": 18
  },
  {
   "metadata": {
    "ExecuteTime": {
     "end_time": "2024-12-22T11:49:48.137710Z",
     "start_time": "2024-12-22T11:49:48.124126Z"
    }
   },
   "cell_type": "code",
   "source": "data['poutcome'].value_counts()",
   "id": "3ce5dfdc2ba97e8e",
   "outputs": [
    {
     "data": {
      "text/plain": [
       "poutcome\n",
       "nonexistent    35563\n",
       "failure         4252\n",
       "success         1373\n",
       "Name: count, dtype: int64"
      ]
     },
     "execution_count": 19,
     "metadata": {},
     "output_type": "execute_result"
    }
   ],
   "execution_count": 19
  },
  {
   "metadata": {
    "ExecuteTime": {
     "end_time": "2024-12-22T11:49:48.194253Z",
     "start_time": "2024-12-22T11:49:48.188667Z"
    }
   },
   "cell_type": "code",
   "source": [
    "poutcome_mapping = {'nonexistent': -1, 'failure': 0, 'success': 1}\n",
    "data['poutcome'] = data['poutcome'].map(poutcome_mapping)"
   ],
   "id": "11ee73edccc4e690",
   "outputs": [],
   "execution_count": 20
  },
  {
   "metadata": {
    "ExecuteTime": {
     "end_time": "2024-12-22T11:49:48.296736Z",
     "start_time": "2024-12-22T11:49:48.288660Z"
    }
   },
   "cell_type": "code",
   "source": "data['education'].value_counts()",
   "id": "56a9da630eff86dc",
   "outputs": [
    {
     "data": {
      "text/plain": [
       "education\n",
       "university.degree      12168\n",
       "high.school             9515\n",
       "basic.9y                6045\n",
       "professional.course     5243\n",
       "basic.4y                4176\n",
       "basic.6y                2292\n",
       "unknown                 1731\n",
       "illiterate                18\n",
       "Name: count, dtype: int64"
      ]
     },
     "execution_count": 21,
     "metadata": {},
     "output_type": "execute_result"
    }
   ],
   "execution_count": 21
  },
  {
   "metadata": {
    "ExecuteTime": {
     "end_time": "2024-12-22T11:49:48.379435Z",
     "start_time": "2024-12-22T11:49:48.373193Z"
    }
   },
   "cell_type": "code",
   "source": [
    "education_mapping = {\n",
    "    'illiterate': 0,\n",
    "    'basic.4y': 1,\n",
    "    'basic.6y': 2,\n",
    "    'basic.9y': 3,\n",
    "    'high.school': 4,\n",
    "    'professional.course': 5,\n",
    "    'university.degree': 6,\n",
    "    'unknown': 0  # Treat 'unknown' the same as 'illiterate'\n",
    "}\n",
    "\n",
    "data['education'] = data['education'].map(education_mapping)"
   ],
   "id": "7cb2d99faa808083",
   "outputs": [],
   "execution_count": 22
  },
  {
   "metadata": {
    "ExecuteTime": {
     "end_time": "2024-12-22T11:49:48.496067Z",
     "start_time": "2024-12-22T11:49:48.487372Z"
    }
   },
   "cell_type": "code",
   "source": "data['marital'].value_counts()",
   "id": "b6ffdbaa356ab449",
   "outputs": [
    {
     "data": {
      "text/plain": [
       "marital\n",
       "married     24928\n",
       "single      11568\n",
       "divorced     4612\n",
       "unknown        80\n",
       "Name: count, dtype: int64"
      ]
     },
     "execution_count": 23,
     "metadata": {},
     "output_type": "execute_result"
    }
   ],
   "execution_count": 23
  },
  {
   "metadata": {
    "ExecuteTime": {
     "end_time": "2024-12-22T11:49:48.590622Z",
     "start_time": "2024-12-22T11:49:48.580880Z"
    }
   },
   "cell_type": "code",
   "source": "data['job'].value_counts()",
   "id": "95aa4df043ef096d",
   "outputs": [
    {
     "data": {
      "text/plain": [
       "job\n",
       "admin.           10422\n",
       "blue-collar       9254\n",
       "technician        6743\n",
       "services          3969\n",
       "management        2924\n",
       "retired           1720\n",
       "entrepreneur      1456\n",
       "self-employed     1421\n",
       "housemaid         1060\n",
       "unemployed        1014\n",
       "student            875\n",
       "unknown            330\n",
       "Name: count, dtype: int64"
      ]
     },
     "execution_count": 24,
     "metadata": {},
     "output_type": "execute_result"
    }
   ],
   "execution_count": 24
  },
  {
   "metadata": {
    "ExecuteTime": {
     "end_time": "2024-12-22T11:49:48.737674Z",
     "start_time": "2024-12-22T11:49:48.707720Z"
    }
   },
   "cell_type": "code",
   "source": [
    "# Replace \"unknown\" with NaN\n",
    "columns_to_consider = [\"marital\",\"job\"]\n",
    "data = data.replace(\"unknown\", np.nan)\n",
    "\n",
    "# Before dropping rows, print the number of rows before dropping\n",
    "rows_before = len(data)\n",
    "print(f\"Rows before removing unknown values: {rows_before}\")\n",
    "\n",
    "# Drop rows with NaN in specified columns\n",
    "data = data.dropna(subset=columns_to_consider)\n",
    "\n",
    "# After dropping rows, print the number of rows after dropping\n",
    "rows_after = len(data)\n",
    "print(f\"Rows after removing unknown values: {rows_after}\")\n",
    "\n",
    "# Print how many rows were dropped\n",
    "rows_deleted = rows_before - rows_after\n",
    "print(f\"Rows dropped after removing unknown values: {rows_deleted}\")"
   ],
   "id": "6a15b31b6b599fe5",
   "outputs": [
    {
     "name": "stdout",
     "output_type": "stream",
     "text": [
      "Rows before removing unknown values: 41188\n",
      "Rows after removing unknown values: 40787\n",
      "Rows dropped after removing unknown values: 401\n"
     ]
    }
   ],
   "execution_count": 25
  },
  {
   "metadata": {
    "ExecuteTime": {
     "end_time": "2024-12-22T11:49:48.826468Z",
     "start_time": "2024-12-22T11:49:48.817723Z"
    }
   },
   "cell_type": "code",
   "source": [
    "# Drop the 'duration' column as it leaks information\n",
    "data.drop(columns=[\"duration\"], inplace=True)"
   ],
   "id": "dacb59d0185e5a2a",
   "outputs": [],
   "execution_count": 26
  },
  {
   "metadata": {
    "ExecuteTime": {
     "end_time": "2024-12-22T11:49:48.910672Z",
     "start_time": "2024-12-22T11:49:48.904743Z"
    }
   },
   "cell_type": "code",
   "source": [
    "# Encode target variable\n",
    "data['y'] = data['y'].map({\"yes\": 1, \"no\": 0}).astype(int)"
   ],
   "id": "24be1c427dcd5890",
   "outputs": [],
   "execution_count": 27
  },
  {
   "metadata": {
    "ExecuteTime": {
     "end_time": "2024-12-22T11:49:48.990379Z",
     "start_time": "2024-12-22T11:49:48.964049Z"
    }
   },
   "cell_type": "code",
   "source": [
    "# One-Hot Encoding for 'marital' column (creating three new columns: 'single', 'married', 'divorced')\n",
    "\n",
    "# Identify the position of the original 'marital' column\n",
    "marital_index = data.columns.get_loc('marital')\n",
    "\n",
    "data['marital_single'] = (data['marital'] == 'single').astype(int)\n",
    "data['marital_married'] = (data['marital'] == 'married').astype(int)\n",
    "data['marital_divorced'] = (data['marital'] == 'divorced').astype(int)\n",
    "\n",
    "# Drop the original 'marital' column\n",
    "data.drop(columns=['marital'], inplace=True)\n",
    "\n",
    "# Insert the new columns at the original position of 'marital'\n",
    "data.insert(marital_index, 'marital_single', data.pop('marital_single'))\n",
    "data.insert(marital_index + 1, 'marital_married', data.pop('marital_married'))\n",
    "data.insert(marital_index + 2, 'marital_divorced', data.pop('marital_divorced'))\n",
    "\n",
    "# Verify the column order\n",
    "print(data.columns)"
   ],
   "id": "d85dab1cbed939c8",
   "outputs": [
    {
     "name": "stdout",
     "output_type": "stream",
     "text": [
      "Index(['age', 'job', 'marital_single', 'marital_married', 'marital_divorced',\n",
      "       'education', 'default', 'housing', 'loan', 'contact', 'month',\n",
      "       'day_of_week', 'campaign', 'pdays', 'previous', 'poutcome',\n",
      "       'emp.var.rate', 'cons.price.idx', 'cons.conf.idx', 'euribor3m',\n",
      "       'nr.employed', 'y'],\n",
      "      dtype='object')\n"
     ]
    }
   ],
   "execution_count": 28
  },
  {
   "metadata": {
    "ExecuteTime": {
     "end_time": "2024-12-22T11:49:49.106753Z",
     "start_time": "2024-12-22T11:49:49.024753Z"
    }
   },
   "cell_type": "code",
   "source": [
    "# Identify the position of the original 'job' column\n",
    "job_index = data.columns.get_loc('job')\n",
    "\n",
    "# Perform One-Hot Encoding for 'job' column\n",
    "job_dummies = pd.get_dummies(data['job'], prefix='job', drop_first=True)\n",
    "\n",
    "# Drop the original 'job' column\n",
    "data.drop(columns=['job'], inplace=True)\n",
    "\n",
    "# Convert boolean True/False in job_dummies to 1/0\n",
    "job_dummies = job_dummies.astype(int)\n",
    "\n",
    "# Insert the new job columns at the original position of 'job'\n",
    "for i, col in enumerate(job_dummies.columns):\n",
    "    data.insert(job_index + i, col, job_dummies[col])\n",
    "\n",
    "# Verify the changes\n",
    "print(data.head(10))\n"
   ],
   "id": "57f1a205ea1b23f2",
   "outputs": [
    {
     "name": "stdout",
     "output_type": "stream",
     "text": [
      "   age  job_blue-collar  job_entrepreneur  job_housemaid  job_management  \\\n",
      "0   56                0                 0              1               0   \n",
      "1   57                0                 0              0               0   \n",
      "2   37                0                 0              0               0   \n",
      "3   40                0                 0              0               0   \n",
      "4   56                0                 0              0               0   \n",
      "5   45                0                 0              0               0   \n",
      "6   59                0                 0              0               0   \n",
      "7   41                1                 0              0               0   \n",
      "8   24                0                 0              0               0   \n",
      "9   25                0                 0              0               0   \n",
      "\n",
      "   job_retired  job_self-employed  job_services  job_student  job_technician  \\\n",
      "0            0                  0             0            0               0   \n",
      "1            0                  0             1            0               0   \n",
      "2            0                  0             1            0               0   \n",
      "3            0                  0             0            0               0   \n",
      "4            0                  0             1            0               0   \n",
      "5            0                  0             1            0               0   \n",
      "6            0                  0             0            0               0   \n",
      "7            0                  0             0            0               0   \n",
      "8            0                  0             0            0               1   \n",
      "9            0                  0             1            0               0   \n",
      "\n",
      "   ...  campaign  pdays  previous  poutcome  emp.var.rate  cons.price.idx  \\\n",
      "0  ...         1    999         0        -1           1.1          93.994   \n",
      "1  ...         1    999         0        -1           1.1          93.994   \n",
      "2  ...         1    999         0        -1           1.1          93.994   \n",
      "3  ...         1    999         0        -1           1.1          93.994   \n",
      "4  ...         1    999         0        -1           1.1          93.994   \n",
      "5  ...         1    999         0        -1           1.1          93.994   \n",
      "6  ...         1    999         0        -1           1.1          93.994   \n",
      "7  ...         1    999         0        -1           1.1          93.994   \n",
      "8  ...         1    999         0        -1           1.1          93.994   \n",
      "9  ...         1    999         0        -1           1.1          93.994   \n",
      "\n",
      "   cons.conf.idx  euribor3m  nr.employed  y  \n",
      "0          -36.4      4.857       5191.0  0  \n",
      "1          -36.4      4.857       5191.0  0  \n",
      "2          -36.4      4.857       5191.0  0  \n",
      "3          -36.4      4.857       5191.0  0  \n",
      "4          -36.4      4.857       5191.0  0  \n",
      "5          -36.4      4.857       5191.0  0  \n",
      "6          -36.4      4.857       5191.0  0  \n",
      "7          -36.4      4.857       5191.0  0  \n",
      "8          -36.4      4.857       5191.0  0  \n",
      "9          -36.4      4.857       5191.0  0  \n",
      "\n",
      "[10 rows x 31 columns]\n"
     ]
    }
   ],
   "execution_count": 29
  },
  {
   "metadata": {
    "ExecuteTime": {
     "end_time": "2024-12-22T11:49:49.444782Z",
     "start_time": "2024-12-22T11:49:49.396269Z"
    }
   },
   "cell_type": "code",
   "source": [
    "# Specify all columns to be converted to 'category', including one-hot encoded columns\n",
    "categorical_columns = ['default', 'housing', 'loan', 'contact', 'month',\n",
    "                       'day_of_week', 'poutcome', 'education',\n",
    "                       'marital_single', 'marital_married', 'marital_divorced']\n",
    "\n",
    "# Add the one-hot encoded job columns to the list\n",
    "job_columns = [col for col in data.columns if col.startswith('job_')]\n",
    "categorical_columns.extend(job_columns)\n",
    "\n",
    "# Convert all specified columns to categorical dtype\n",
    "data[categorical_columns] = data[categorical_columns].astype('category')\n",
    "\n",
    "# Verify the changes\n",
    "print(data.info())"
   ],
   "id": "aa63aa42de0c8300",
   "outputs": [
    {
     "name": "stdout",
     "output_type": "stream",
     "text": [
      "<class 'pandas.core.frame.DataFrame'>\n",
      "Index: 40787 entries, 0 to 41187\n",
      "Data columns (total 31 columns):\n",
      " #   Column             Non-Null Count  Dtype   \n",
      "---  ------             --------------  -----   \n",
      " 0   age                40787 non-null  int64   \n",
      " 1   job_blue-collar    40787 non-null  category\n",
      " 2   job_entrepreneur   40787 non-null  category\n",
      " 3   job_housemaid      40787 non-null  category\n",
      " 4   job_management     40787 non-null  category\n",
      " 5   job_retired        40787 non-null  category\n",
      " 6   job_self-employed  40787 non-null  category\n",
      " 7   job_services       40787 non-null  category\n",
      " 8   job_student        40787 non-null  category\n",
      " 9   job_technician     40787 non-null  category\n",
      " 10  job_unemployed     40787 non-null  category\n",
      " 11  marital_single     40787 non-null  category\n",
      " 12  marital_married    40787 non-null  category\n",
      " 13  marital_divorced   40787 non-null  category\n",
      " 14  education          40787 non-null  category\n",
      " 15  default            40787 non-null  category\n",
      " 16  housing            40787 non-null  category\n",
      " 17  loan               40787 non-null  category\n",
      " 18  contact            40787 non-null  category\n",
      " 19  month              40787 non-null  category\n",
      " 20  day_of_week        40787 non-null  category\n",
      " 21  campaign           40787 non-null  int64   \n",
      " 22  pdays              40787 non-null  int64   \n",
      " 23  previous           40787 non-null  int64   \n",
      " 24  poutcome           40787 non-null  category\n",
      " 25  emp.var.rate       40787 non-null  float64 \n",
      " 26  cons.price.idx     40787 non-null  float64 \n",
      " 27  cons.conf.idx      40787 non-null  float64 \n",
      " 28  euribor3m          40787 non-null  float64 \n",
      " 29  nr.employed        40787 non-null  float64 \n",
      " 30  y                  40787 non-null  int64   \n",
      "dtypes: category(21), float64(5), int64(5)\n",
      "memory usage: 4.2 MB\n",
      "None\n"
     ]
    }
   ],
   "execution_count": 30
  },
  {
   "metadata": {
    "ExecuteTime": {
     "end_time": "2024-12-22T11:49:49.772695Z",
     "start_time": "2024-12-22T11:49:49.465099Z"
    }
   },
   "cell_type": "code",
   "source": [
    "# Save the dataset for Neural Networks\n",
    "data.to_csv(\"processed_bank_data.csv\", index=False)"
   ],
   "id": "1b6a198d5b5797b4",
   "outputs": [],
   "execution_count": 31
  }
 ],
 "metadata": {
  "kernelspec": {
   "display_name": "Python 3",
   "language": "python",
   "name": "python3"
  },
  "language_info": {
   "codemirror_mode": {
    "name": "ipython",
    "version": 2
   },
   "file_extension": ".py",
   "mimetype": "text/x-python",
   "name": "python",
   "nbconvert_exporter": "python",
   "pygments_lexer": "ipython2",
   "version": "2.7.6"
  }
 },
 "nbformat": 4,
 "nbformat_minor": 5
}
