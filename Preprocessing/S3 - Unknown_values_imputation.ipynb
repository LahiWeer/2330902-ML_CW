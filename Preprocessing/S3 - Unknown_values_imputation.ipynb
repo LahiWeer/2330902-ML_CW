{
  "cells": [
    {
      "cell_type": "markdown",
      "metadata": {
        "id": "view-in-github",
        "colab_type": "text"
      },
      "source": [
        "<a href=\"https://colab.research.google.com/github/LahiWeer/2330902_20230537_CM2604-ML_CW/blob/master/Preprocessing/S3%20-%20Unknown_values_imputation.ipynb\" target=\"_parent\"><img src=\"https://colab.research.google.com/assets/colab-badge.svg\" alt=\"Open In Colab\"/></a>"
      ]
    },
    {
      "metadata": {
        "ExecuteTime": {
          "end_time": "2024-12-22T14:51:22.024243Z",
          "start_time": "2024-12-22T14:51:21.312804Z"
        },
        "id": "3f927c82f0051e4"
      },
      "cell_type": "code",
      "source": [
        "import pandas as pd\n",
        "from sklearn.tree import DecisionTreeClassifier"
      ],
      "id": "3f927c82f0051e4",
      "outputs": [],
      "execution_count": 1
    },
    {
      "cell_type": "code",
      "source": [
        "# Load the dataset\n",
        "data_url = 'https://raw.githubusercontent.com/LahiWeer/2330902_20230537_CM2604-ML_CW/refs/heads/master/Preprocessing/Processed%20data%20in%20each%20step/processed_bank_data.csv'\n",
        "df = pd.read_csv(data_url)"
      ],
      "metadata": {
        "id": "sm-bQ5OZmR5s"
      },
      "id": "sm-bQ5OZmR5s",
      "execution_count": 2,
      "outputs": []
    },
    {
      "metadata": {
        "ExecuteTime": {
          "end_time": "2024-12-22T14:51:28.771318Z",
          "start_time": "2024-12-22T14:51:28.753765Z"
        },
        "id": "8c8c8bae5717164f",
        "outputId": "1f8b315d-235e-41fd-d67a-38f575869c9e",
        "colab": {
          "base_uri": "https://localhost:8080/",
          "height": 209
        }
      },
      "cell_type": "code",
      "source": [
        "df['housing'].value_counts()"
      ],
      "id": "8c8c8bae5717164f",
      "outputs": [
        {
          "output_type": "execute_result",
          "data": {
            "text/plain": [
              "housing\n",
              " 1    21376\n",
              " 0    18427\n",
              "-1      984\n",
              "Name: count, dtype: int64"
            ],
            "text/html": [
              "<div>\n",
              "<style scoped>\n",
              "    .dataframe tbody tr th:only-of-type {\n",
              "        vertical-align: middle;\n",
              "    }\n",
              "\n",
              "    .dataframe tbody tr th {\n",
              "        vertical-align: top;\n",
              "    }\n",
              "\n",
              "    .dataframe thead th {\n",
              "        text-align: right;\n",
              "    }\n",
              "</style>\n",
              "<table border=\"1\" class=\"dataframe\">\n",
              "  <thead>\n",
              "    <tr style=\"text-align: right;\">\n",
              "      <th></th>\n",
              "      <th>count</th>\n",
              "    </tr>\n",
              "    <tr>\n",
              "      <th>housing</th>\n",
              "      <th></th>\n",
              "    </tr>\n",
              "  </thead>\n",
              "  <tbody>\n",
              "    <tr>\n",
              "      <th>1</th>\n",
              "      <td>21376</td>\n",
              "    </tr>\n",
              "    <tr>\n",
              "      <th>0</th>\n",
              "      <td>18427</td>\n",
              "    </tr>\n",
              "    <tr>\n",
              "      <th>-1</th>\n",
              "      <td>984</td>\n",
              "    </tr>\n",
              "  </tbody>\n",
              "</table>\n",
              "</div><br><label><b>dtype:</b> int64</label>"
            ]
          },
          "metadata": {},
          "execution_count": 3
        }
      ],
      "execution_count": 3
    },
    {
      "metadata": {
        "ExecuteTime": {
          "end_time": "2024-12-22T14:51:33.527399Z",
          "start_time": "2024-12-22T14:51:33.519270Z"
        },
        "id": "d2d54004d745c781",
        "outputId": "34142d75-4698-4bd0-9952-bc07c4734fbd",
        "colab": {
          "base_uri": "https://localhost:8080/",
          "height": 209
        }
      },
      "cell_type": "code",
      "source": [
        "df['loan'].value_counts()"
      ],
      "id": "d2d54004d745c781",
      "outputs": [
        {
          "output_type": "execute_result",
          "data": {
            "text/plain": [
              "loan\n",
              " 0    33620\n",
              " 1     6183\n",
              "-1      984\n",
              "Name: count, dtype: int64"
            ],
            "text/html": [
              "<div>\n",
              "<style scoped>\n",
              "    .dataframe tbody tr th:only-of-type {\n",
              "        vertical-align: middle;\n",
              "    }\n",
              "\n",
              "    .dataframe tbody tr th {\n",
              "        vertical-align: top;\n",
              "    }\n",
              "\n",
              "    .dataframe thead th {\n",
              "        text-align: right;\n",
              "    }\n",
              "</style>\n",
              "<table border=\"1\" class=\"dataframe\">\n",
              "  <thead>\n",
              "    <tr style=\"text-align: right;\">\n",
              "      <th></th>\n",
              "      <th>count</th>\n",
              "    </tr>\n",
              "    <tr>\n",
              "      <th>loan</th>\n",
              "      <th></th>\n",
              "    </tr>\n",
              "  </thead>\n",
              "  <tbody>\n",
              "    <tr>\n",
              "      <th>0</th>\n",
              "      <td>33620</td>\n",
              "    </tr>\n",
              "    <tr>\n",
              "      <th>1</th>\n",
              "      <td>6183</td>\n",
              "    </tr>\n",
              "    <tr>\n",
              "      <th>-1</th>\n",
              "      <td>984</td>\n",
              "    </tr>\n",
              "  </tbody>\n",
              "</table>\n",
              "</div><br><label><b>dtype:</b> int64</label>"
            ]
          },
          "metadata": {},
          "execution_count": 11
        }
      ],
      "execution_count": null
    },
    {
      "cell_type": "code",
      "source": [
        "# Check initial counts of missing or unknown values\n",
        "initial_housing_unknowns = sum(df['housing'] == -1)\n",
        "initial_loan_unknowns = sum(df['loan'] == -1)\n",
        "\n",
        "print(f\"Initial unknown values in 'housing': {initial_housing_unknowns}\")\n",
        "print(f\"Initial unknown values in 'loan': {initial_loan_unknowns}\")"
      ],
      "metadata": {
        "id": "VGyk5WC2ntB8",
        "outputId": "61d477ff-b24d-4672-c5c7-2eabc62936c8",
        "colab": {
          "base_uri": "https://localhost:8080/"
        }
      },
      "id": "VGyk5WC2ntB8",
      "execution_count": null,
      "outputs": [
        {
          "output_type": "stream",
          "name": "stdout",
          "text": [
            "Initial unknown values in 'housing': 984\n",
            "Initial unknown values in 'loan': 984\n"
          ]
        }
      ]
    },
    {
      "cell_type": "markdown",
      "source": [
        "### **Conditional imputation using Decision Tree Classifier**\n",
        "- Impute unknown values in 'housing' and 'loan' based on related feature columns using a Decision Tree Classifier.\n"
      ],
      "metadata": {
        "id": "LJOpfKJBBTDH"
      },
      "id": "LJOpfKJBBTDH"
    },
    {
      "metadata": {
        "ExecuteTime": {
          "end_time": "2024-12-22T14:51:39.294124Z",
          "start_time": "2024-12-22T14:51:37.340389Z"
        },
        "id": "2ebf4338fe49861c",
        "outputId": "cd18fffe-74c0-459d-e317-2e25bc9089e0",
        "colab": {
          "base_uri": "https://localhost:8080/"
        }
      },
      "cell_type": "code",
      "source": [
        "# Function for conditional imputation using a Decision Tree Classifier\n",
        "def conditional_imputation(df, target_column, feature_columns, condition_value):\n",
        "    \"\"\"\n",
        "    Imputes a target column based on a condition value (e.g., -1 for 'housing', 0 for 'poutcome').\n",
        "    \"\"\"\n",
        "    # Separate rows with missing/unknown target values and rows with known target values\n",
        "    df_condition = df[df[target_column] == condition_value]\n",
        "    df_non_condition = df[df[target_column] != condition_value]\n",
        "\n",
        "    if df_condition.empty:\n",
        "        print(f\"No values matching {condition_value} in {target_column} for imputation.\")\n",
        "        return df\n",
        "\n",
        "    # Prepare the features and target for training the model\n",
        "    X_train = df_non_condition[feature_columns]\n",
        "    y_train = df_non_condition[target_column]\n",
        "\n",
        "    # Initialize the DecisionTreeClassifier and fit it on the training data\n",
        "    clf = DecisionTreeClassifier(max_depth=5, random_state=42)\n",
        "    clf.fit(X_train, y_train)\n",
        "\n",
        "    # Use the model to predict values for rows matching the condition\n",
        "    X_condition = df_condition[feature_columns]\n",
        "    predicted_values = clf.predict(X_condition)\n",
        "\n",
        "    # Replace condition values with the predicted values\n",
        "    df.loc[df[target_column] == condition_value, target_column] = predicted_values\n",
        "\n",
        "    return df\n",
        "\n",
        "# Features used for imputation\n",
        "feature_columns = ['age', 'marital_single', 'marital_married', 'marital_divorced',\n",
        "                   'job_blue-collar', 'job_entrepreneur', 'job_housemaid', 'job_management',\n",
        "                   'job_retired', 'job_self-employed', 'job_services', 'job_student',\n",
        "                   'job_technician', 'job_unemployed', 'education', 'default', 'contact',\n",
        "                   'month', 'day_of_week', 'campaign', 'pdays', 'previous', 'poutcome',\n",
        "                   'emp.var.rate', 'cons.price.idx', 'cons.conf.idx', 'euribor3m', 'nr.employed']\n",
        "\n",
        "# Imputation for 'housing' (unknown values represented by -1)\n",
        "df = conditional_imputation(df, 'housing', feature_columns, -1)\n",
        "\n",
        "# Imputation for 'loan' (unknown values represented by -1)\n",
        "df = conditional_imputation(df, 'loan', feature_columns, -1)"
      ],
      "id": "2ebf4338fe49861c",
      "outputs": [
        {
          "output_type": "stream",
          "name": "stdout",
          "text": [
            "No values matching -1 in housing for imputation.\n",
            "No values matching -1 in loan for imputation.\n"
          ]
        }
      ],
      "execution_count": null
    },
    {
      "cell_type": "code",
      "source": [
        "# Verify the imputation results\n",
        "remaining_housing_unknowns = sum(df['housing'] == -1)\n",
        "remaining_loan_unknowns = sum(df['loan'] == -1)\n",
        "\n",
        "print(f\"Unknown values in 'housing' after imputation: {remaining_housing_unknowns}\")\n",
        "print(f\"Unknown values in 'loan' after imputation: {remaining_loan_unknowns}\")"
      ],
      "metadata": {
        "id": "RmpkLhY8nx01",
        "outputId": "4edb636a-d7e1-4c4f-9c0e-7b4fa364d273",
        "colab": {
          "base_uri": "https://localhost:8080/"
        }
      },
      "id": "RmpkLhY8nx01",
      "execution_count": null,
      "outputs": [
        {
          "output_type": "stream",
          "name": "stdout",
          "text": [
            "Unknown values in 'housing' after imputation: 0\n",
            "Unknown values in 'loan' after imputation: 0\n"
          ]
        }
      ]
    },
    {
      "metadata": {
        "ExecuteTime": {
          "end_time": "2024-12-22T14:09:15.234660Z",
          "start_time": "2024-12-22T14:09:15.008327Z"
        },
        "id": "c001f5080bb843fe",
        "outputId": "6ab0322e-8c0d-40d2-d0c1-bea5020d1a10",
        "colab": {
          "base_uri": "https://localhost:8080/"
        }
      },
      "cell_type": "code",
      "source": [
        "# Save the updated data\n",
        "df.to_csv(\"processed_bank_data_final.csv\", index=False)\n",
        "\n",
        "# Final confirmation\n",
        "print(\"Imputation for 'housing',  and 'loan' complete. The dataset has been saved to 'processed_bank_data_final.csv'.\")"
      ],
      "id": "c001f5080bb843fe",
      "outputs": [
        {
          "output_type": "stream",
          "name": "stdout",
          "text": [
            "Imputation for 'housing',  and 'loan' complete. The dataset has been saved to 'processed_bank_data_final.csv'.\n"
          ]
        }
      ],
      "execution_count": null
    },
    {
      "cell_type": "code",
      "source": [
        "# Load the updated dataset\n",
        "data_url = 'https://raw.githubusercontent.com/LahiWeer/2330902_20230537_CM2604-ML_CW/refs/heads/master/Preprocessing/Processed%20data%20in%20each%20step/processed_bank_data_final.csv'\n",
        "data = pd.read_csv(data_url)"
      ],
      "metadata": {
        "id": "BaVwuaHToStM"
      },
      "id": "BaVwuaHToStM",
      "execution_count": 4,
      "outputs": []
    },
    {
      "metadata": {
        "ExecuteTime": {
          "end_time": "2024-12-22T14:51:53.135152Z",
          "start_time": "2024-12-22T14:51:53.041282Z"
        },
        "id": "3c8dc718447c4c96",
        "outputId": "d4885067-4461-420b-b612-d91b4b67d3c0",
        "colab": {
          "base_uri": "https://localhost:8080/",
          "height": 178
        }
      },
      "cell_type": "code",
      "source": [
        "# Check value counts for 'housing' column in the updated dataset\n",
        "data['housing'].value_counts()"
      ],
      "id": "3c8dc718447c4c96",
      "outputs": [
        {
          "output_type": "execute_result",
          "data": {
            "text/plain": [
              "housing\n",
              "1    22050\n",
              "0    18737\n",
              "Name: count, dtype: int64"
            ],
            "text/html": [
              "<div>\n",
              "<style scoped>\n",
              "    .dataframe tbody tr th:only-of-type {\n",
              "        vertical-align: middle;\n",
              "    }\n",
              "\n",
              "    .dataframe tbody tr th {\n",
              "        vertical-align: top;\n",
              "    }\n",
              "\n",
              "    .dataframe thead th {\n",
              "        text-align: right;\n",
              "    }\n",
              "</style>\n",
              "<table border=\"1\" class=\"dataframe\">\n",
              "  <thead>\n",
              "    <tr style=\"text-align: right;\">\n",
              "      <th></th>\n",
              "      <th>count</th>\n",
              "    </tr>\n",
              "    <tr>\n",
              "      <th>housing</th>\n",
              "      <th></th>\n",
              "    </tr>\n",
              "  </thead>\n",
              "  <tbody>\n",
              "    <tr>\n",
              "      <th>1</th>\n",
              "      <td>22050</td>\n",
              "    </tr>\n",
              "    <tr>\n",
              "      <th>0</th>\n",
              "      <td>18737</td>\n",
              "    </tr>\n",
              "  </tbody>\n",
              "</table>\n",
              "</div><br><label><b>dtype:</b> int64</label>"
            ]
          },
          "metadata": {},
          "execution_count": 5
        }
      ],
      "execution_count": 5
    },
    {
      "metadata": {
        "ExecuteTime": {
          "end_time": "2024-12-22T14:52:02.149874Z",
          "start_time": "2024-12-22T14:52:02.143482Z"
        },
        "id": "c75f9ca265189c2c",
        "outputId": "0c917e28-f09d-4bc8-9130-e7d3063aa433",
        "colab": {
          "base_uri": "https://localhost:8080/",
          "height": 178
        }
      },
      "cell_type": "code",
      "source": [
        "#*Check value counts for 'loan' column in the updated dataset\n",
        "data['loan'].value_counts()"
      ],
      "id": "c75f9ca265189c2c",
      "outputs": [
        {
          "output_type": "execute_result",
          "data": {
            "text/plain": [
              "loan\n",
              "0    34604\n",
              "1     6183\n",
              "Name: count, dtype: int64"
            ],
            "text/html": [
              "<div>\n",
              "<style scoped>\n",
              "    .dataframe tbody tr th:only-of-type {\n",
              "        vertical-align: middle;\n",
              "    }\n",
              "\n",
              "    .dataframe tbody tr th {\n",
              "        vertical-align: top;\n",
              "    }\n",
              "\n",
              "    .dataframe thead th {\n",
              "        text-align: right;\n",
              "    }\n",
              "</style>\n",
              "<table border=\"1\" class=\"dataframe\">\n",
              "  <thead>\n",
              "    <tr style=\"text-align: right;\">\n",
              "      <th></th>\n",
              "      <th>count</th>\n",
              "    </tr>\n",
              "    <tr>\n",
              "      <th>loan</th>\n",
              "      <th></th>\n",
              "    </tr>\n",
              "  </thead>\n",
              "  <tbody>\n",
              "    <tr>\n",
              "      <th>0</th>\n",
              "      <td>34604</td>\n",
              "    </tr>\n",
              "    <tr>\n",
              "      <th>1</th>\n",
              "      <td>6183</td>\n",
              "    </tr>\n",
              "  </tbody>\n",
              "</table>\n",
              "</div><br><label><b>dtype:</b> int64</label>"
            ]
          },
          "metadata": {},
          "execution_count": 6
        }
      ],
      "execution_count": 6
    }
  ],
  "metadata": {
    "kernelspec": {
      "display_name": "Python 3",
      "language": "python",
      "name": "python3"
    },
    "language_info": {
      "codemirror_mode": {
        "name": "ipython",
        "version": 2
      },
      "file_extension": ".py",
      "mimetype": "text/x-python",
      "name": "python",
      "nbconvert_exporter": "python",
      "pygments_lexer": "ipython2",
      "version": "2.7.6"
    },
    "colab": {
      "provenance": [],
      "include_colab_link": true
    }
  },
  "nbformat": 4,
  "nbformat_minor": 5
}