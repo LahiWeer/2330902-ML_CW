{
 "cells": [
  {
   "metadata": {
    "ExecuteTime": {
     "end_time": "2024-12-22T14:51:22.024243Z",
     "start_time": "2024-12-22T14:51:21.312804Z"
    }
   },
   "cell_type": "code",
   "source": "import pandas as pd",
   "id": "3f927c82f0051e4",
   "outputs": [],
   "execution_count": 1
  },
  {
   "metadata": {
    "ExecuteTime": {
     "end_time": "2024-12-22T14:51:26.642157Z",
     "start_time": "2024-12-22T14:51:26.511695Z"
    }
   },
   "cell_type": "code",
   "source": [
    "# Load the dataset\n",
    "data = pd.read_csv(\"processed_bank_data.csv\")"
   ],
   "id": "f506f1f5b7511216",
   "outputs": [],
   "execution_count": 2
  },
  {
   "metadata": {
    "ExecuteTime": {
     "end_time": "2024-12-22T14:51:28.771318Z",
     "start_time": "2024-12-22T14:51:28.753765Z"
    }
   },
   "cell_type": "code",
   "source": "data['housing'].value_counts()",
   "id": "8c8c8bae5717164f",
   "outputs": [
    {
     "data": {
      "text/plain": [
       "housing\n",
       " 1    21376\n",
       " 0    18427\n",
       "-1      984\n",
       "Name: count, dtype: int64"
      ]
     },
     "execution_count": 3,
     "metadata": {},
     "output_type": "execute_result"
    }
   ],
   "execution_count": 3
  },
  {
   "metadata": {
    "ExecuteTime": {
     "end_time": "2024-12-22T14:51:33.527399Z",
     "start_time": "2024-12-22T14:51:33.519270Z"
    }
   },
   "cell_type": "code",
   "source": "data['loan'].value_counts()",
   "id": "d2d54004d745c781",
   "outputs": [
    {
     "data": {
      "text/plain": [
       "loan\n",
       " 0    33620\n",
       " 1     6183\n",
       "-1      984\n",
       "Name: count, dtype: int64"
      ]
     },
     "execution_count": 4,
     "metadata": {},
     "output_type": "execute_result"
    }
   ],
   "execution_count": 4
  },
  {
   "metadata": {
    "ExecuteTime": {
     "end_time": "2024-12-22T14:51:39.294124Z",
     "start_time": "2024-12-22T14:51:37.340389Z"
    }
   },
   "cell_type": "code",
   "source": [
    "import pandas as pd\n",
    "from sklearn.tree import DecisionTreeClassifier\n",
    "\n",
    "# Load the dataset\n",
    "df = pd.read_csv(\"processed_bank_data.csv\")\n",
    "\n",
    "# Check initial counts of missing or unknown values\n",
    "initial_housing_unknowns = sum(df['housing'] == -1)\n",
    "initial_loan_unknowns = sum(df['loan'] == -1)\n",
    "\n",
    "print(f\"Initial unknown values in 'housing': {initial_housing_unknowns}\")\n",
    "print(f\"Initial unknown values in 'loan': {initial_loan_unknowns}\")\n",
    "\n",
    "# Function for conditional imputation using a Decision Tree Classifier\n",
    "def conditional_imputation(df, target_column, feature_columns, condition_value):\n",
    "    \"\"\"\n",
    "    Imputes a target column based on a condition value (e.g., -1 for 'housing', 0 for 'poutcome').\n",
    "    \"\"\"\n",
    "    # Separate rows with missing/unknown target values and rows with known target values\n",
    "    df_condition = df[df[target_column] == condition_value]\n",
    "    df_non_condition = df[df[target_column] != condition_value]\n",
    "\n",
    "    if df_condition.empty:\n",
    "        print(f\"No values matching {condition_value} in {target_column} for imputation.\")\n",
    "        return df\n",
    "\n",
    "    # Prepare the features and target for training the model\n",
    "    X_train = df_non_condition[feature_columns]\n",
    "    y_train = df_non_condition[target_column]\n",
    "\n",
    "    # Initialize the DecisionTreeClassifier and fit it on the training data\n",
    "    clf = DecisionTreeClassifier(max_depth=5, random_state=42)\n",
    "    clf.fit(X_train, y_train)\n",
    "\n",
    "    # Use the model to predict values for rows matching the condition\n",
    "    X_condition = df_condition[feature_columns]\n",
    "    predicted_values = clf.predict(X_condition)\n",
    "\n",
    "    # Replace condition values with the predicted values\n",
    "    df.loc[df[target_column] == condition_value, target_column] = predicted_values\n",
    "\n",
    "    return df\n",
    "\n",
    "# Features used for imputation\n",
    "feature_columns = ['age', 'marital_single', 'marital_married', 'marital_divorced',\n",
    "                   'job_blue-collar', 'job_entrepreneur', 'job_housemaid', 'job_management',\n",
    "                   'job_retired', 'job_self-employed', 'job_services', 'job_student',\n",
    "                   'job_technician', 'job_unemployed', 'education', 'default', 'contact',\n",
    "                   'month', 'day_of_week', 'campaign', 'pdays', 'previous', 'poutcome',\n",
    "                   'emp.var.rate', 'cons.price.idx', 'cons.conf.idx', 'euribor3m', 'nr.employed']\n",
    "\n",
    "# Imputation for 'housing' (unknown values represented by -1)\n",
    "df = conditional_imputation(df, 'housing', feature_columns, -1)\n",
    "\n",
    "# Imputation for 'loan' (unknown values represented by -1)\n",
    "df = conditional_imputation(df, 'loan', feature_columns, -1)\n",
    "\n",
    "# Verify the results\n",
    "remaining_housing_unknowns = sum(df['housing'] == -1)\n",
    "remaining_loan_unknowns = sum(df['loan'] == -1)\n",
    "\n",
    "print(f\"Unknown values in 'housing' after imputation: {remaining_housing_unknowns}\")\n",
    "print(f\"Unknown values in 'loan' after imputation: {remaining_loan_unknowns}\")"
   ],
   "id": "2ebf4338fe49861c",
   "outputs": [
    {
     "name": "stdout",
     "output_type": "stream",
     "text": [
      "Initial unknown values in 'housing': 984\n",
      "Initial unknown values in 'loan': 984\n",
      "Unknown values in 'housing' after imputation: 0\n",
      "Unknown values in 'loan' after imputation: 0\n"
     ]
    }
   ],
   "execution_count": 5
  },
  {
   "metadata": {
    "ExecuteTime": {
     "end_time": "2024-12-22T14:09:15.234660Z",
     "start_time": "2024-12-22T14:09:15.008327Z"
    }
   },
   "cell_type": "code",
   "source": [
    "# Save the updated data\n",
    "df.to_csv(\"processed_bank_data_final.csv\", index=False)\n",
    "\n",
    "# Final confirmation\n",
    "print(\"Imputation for 'housing',  and 'loan' complete. The dataset has been saved to 'processed_bank_data_final.csv'.\")"
   ],
   "id": "c001f5080bb843fe",
   "outputs": [
    {
     "name": "stdout",
     "output_type": "stream",
     "text": [
      "Imputation for 'housing',  and 'loan' complete. The dataset has been saved to 'processed_bank_data_final.csv'.\n"
     ]
    }
   ],
   "execution_count": 25
  },
  {
   "metadata": {
    "ExecuteTime": {
     "end_time": "2024-12-22T14:51:53.135152Z",
     "start_time": "2024-12-22T14:51:53.041282Z"
    }
   },
   "cell_type": "code",
   "source": [
    "# Load the dataset\n",
    "data = pd.read_csv(\"processed_bank_data_final.csv\")\n",
    "\n",
    "data['housing'].value_counts()"
   ],
   "id": "3c8dc718447c4c96",
   "outputs": [
    {
     "data": {
      "text/plain": [
       "housing\n",
       "1    22050\n",
       "0    18737\n",
       "Name: count, dtype: int64"
      ]
     },
     "execution_count": 6,
     "metadata": {},
     "output_type": "execute_result"
    }
   ],
   "execution_count": 6
  },
  {
   "metadata": {
    "ExecuteTime": {
     "end_time": "2024-12-22T14:52:02.149874Z",
     "start_time": "2024-12-22T14:52:02.143482Z"
    }
   },
   "cell_type": "code",
   "source": "data['loan'].value_counts()",
   "id": "c75f9ca265189c2c",
   "outputs": [
    {
     "data": {
      "text/plain": [
       "loan\n",
       "0    34604\n",
       "1     6183\n",
       "Name: count, dtype: int64"
      ]
     },
     "execution_count": 7,
     "metadata": {},
     "output_type": "execute_result"
    }
   ],
   "execution_count": 7
  },
  {
   "metadata": {
    "ExecuteTime": {
     "end_time": "2024-12-22T11:43:09.666537Z",
     "start_time": "2024-12-22T11:43:09.233660Z"
    }
   },
   "cell_type": "code",
   "source": [
    "data = pd.read_csv(\"processed_bank_data_final.csv\")\n",
    "\n",
    "# Specify all columns to be converted to 'category', including one-hot encoded columns\n",
    "categorical_columns = ['default', 'housing', 'loan', 'contact', 'month',\n",
    "                       'day_of_week', 'poutcome', 'education',\n",
    "                       'marital_single', 'marital_married', 'marital_divorced']\n",
    "\n",
    "# Add the one-hot encoded job columns to the list\n",
    "job_columns = [col for col in data.columns if col.startswith('job_')]\n",
    "categorical_columns.extend(job_columns)\n",
    "\n",
    "# Convert all specified columns to categorical dtype\n",
    "data[categorical_columns] = data[categorical_columns].astype('category')\n",
    "\n",
    "# Verify the changes\n",
    "print(data.info())"
   ],
   "id": "21eb04fd1fbc18cf",
   "outputs": [
    {
     "name": "stdout",
     "output_type": "stream",
     "text": [
      "<class 'pandas.core.frame.DataFrame'>\n",
      "RangeIndex: 40787 entries, 0 to 40786\n",
      "Data columns (total 31 columns):\n",
      " #   Column             Non-Null Count  Dtype   \n",
      "---  ------             --------------  -----   \n",
      " 0   age                40787 non-null  int64   \n",
      " 1   job_blue-collar    40787 non-null  category\n",
      " 2   job_entrepreneur   40787 non-null  category\n",
      " 3   job_housemaid      40787 non-null  category\n",
      " 4   job_management     40787 non-null  category\n",
      " 5   job_retired        40787 non-null  category\n",
      " 6   job_self-employed  40787 non-null  category\n",
      " 7   job_services       40787 non-null  category\n",
      " 8   job_student        40787 non-null  category\n",
      " 9   job_technician     40787 non-null  category\n",
      " 10  job_unemployed     40787 non-null  category\n",
      " 11  marital_single     40787 non-null  category\n",
      " 12  marital_married    40787 non-null  category\n",
      " 13  marital_divorced   40787 non-null  category\n",
      " 14  education          40787 non-null  category\n",
      " 15  default            40787 non-null  category\n",
      " 16  housing            40787 non-null  category\n",
      " 17  loan               40787 non-null  category\n",
      " 18  contact            40787 non-null  category\n",
      " 19  month              40787 non-null  category\n",
      " 20  day_of_week        40787 non-null  category\n",
      " 21  campaign           40787 non-null  int64   \n",
      " 22  pdays              40787 non-null  int64   \n",
      " 23  previous           40787 non-null  int64   \n",
      " 24  poutcome           40787 non-null  category\n",
      " 25  emp.var.rate       40787 non-null  float64 \n",
      " 26  cons.price.idx     40787 non-null  float64 \n",
      " 27  cons.conf.idx      40787 non-null  float64 \n",
      " 28  euribor3m          40787 non-null  float64 \n",
      " 29  nr.employed        40787 non-null  float64 \n",
      " 30  y                  40787 non-null  int64   \n",
      "dtypes: category(21), float64(5), int64(5)\n",
      "memory usage: 3.9 MB\n",
      "None\n"
     ]
    }
   ],
   "execution_count": 11
  }
 ],
 "metadata": {
  "kernelspec": {
   "display_name": "Python 3",
   "language": "python",
   "name": "python3"
  },
  "language_info": {
   "codemirror_mode": {
    "name": "ipython",
    "version": 2
   },
   "file_extension": ".py",
   "mimetype": "text/x-python",
   "name": "python",
   "nbconvert_exporter": "python",
   "pygments_lexer": "ipython2",
   "version": "2.7.6"
  }
 },
 "nbformat": 4,
 "nbformat_minor": 5
}
